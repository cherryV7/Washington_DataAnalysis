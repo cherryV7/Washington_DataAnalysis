{
 "cells": [
  {
   "cell_type": "code",
   "execution_count": 15,
   "metadata": {
    "colab": {
     "base_uri": "https://localhost:8080/"
    },
    "executionInfo": {
     "elapsed": 17359,
     "status": "ok",
     "timestamp": 1654097999209,
     "user": {
      "displayName": "Filip Gawroński",
      "userId": "00648330829298803344"
     },
     "user_tz": -120
    },
    "id": "S8TjharvTNSR",
    "outputId": "8c180413-c59a-4cc1-bda9-45cea7e331f9"
   },
   "outputs": [],
   "source": [
    "import pandas as pd\n",
    "import numpy as np\n",
    "import statsmodels.formula.api as smf\n",
    "import seaborn as sns\n",
    "import matplotlib.pyplot as plt\n",
    "from sklearn import preprocessing\n",
    "from sklearn.metrics import mean_squared_error, explained_variance_score, max_error, mean_absolute_percentage_error, r2_score, mean_poisson_deviance\n",
    "from sklearn.linear_model import lasso_path\n",
    "pd.set_option(\"display.max_rows\", None, \"display.max_columns\", None)"
   ]
  },
  {
   "cell_type": "markdown",
   "metadata": {
    "id": "O3qQgT1cT9vV"
   },
   "source": [
    "Getting the data"
   ]
  },
  {
   "cell_type": "code",
   "execution_count": 16,
   "metadata": {
    "executionInfo": {
     "elapsed": 669,
     "status": "ok",
     "timestamp": 1654097999875,
     "user": {
      "displayName": "Filip Gawroński",
      "userId": "00648330829298803344"
     },
     "user_tz": -120
    },
    "id": "y2bbRC4FTcv_"
   },
   "outputs": [],
   "source": [
    "data = pd.read_csv('http://data.insideairbnb.com/united-states/dc/washington-dc/2022-03-19/data/listings.csv.gz')"
   ]
  },
  {
   "cell_type": "code",
   "execution_count": 17,
   "metadata": {
    "colab": {
     "base_uri": "https://localhost:8080/"
    },
    "executionInfo": {
     "elapsed": 407,
     "status": "ok",
     "timestamp": 1654098000280,
     "user": {
      "displayName": "Filip Gawroński",
      "userId": "00648330829298803344"
     },
     "user_tz": -120
    },
    "id": "CrdeUfvcTqfx",
    "outputId": "0f7f473f-610b-432e-8490-61909d8420a6"
   },
   "outputs": [
    {
     "data": {
      "text/plain": [
       "Index(['id', 'listing_url', 'scrape_id', 'last_scraped', 'name', 'description',\n",
       "       'neighborhood_overview', 'picture_url', 'host_id', 'host_url',\n",
       "       'host_name', 'host_since', 'host_location', 'host_about',\n",
       "       'host_response_time', 'host_response_rate', 'host_acceptance_rate',\n",
       "       'host_is_superhost', 'host_thumbnail_url', 'host_picture_url',\n",
       "       'host_neighbourhood', 'host_listings_count',\n",
       "       'host_total_listings_count', 'host_verifications',\n",
       "       'host_has_profile_pic', 'host_identity_verified', 'neighbourhood',\n",
       "       'neighbourhood_cleansed', 'neighbourhood_group_cleansed', 'latitude',\n",
       "       'longitude', 'property_type', 'room_type', 'accommodates', 'bathrooms',\n",
       "       'bathrooms_text', 'bedrooms', 'beds', 'amenities', 'price',\n",
       "       'minimum_nights', 'maximum_nights', 'minimum_minimum_nights',\n",
       "       'maximum_minimum_nights', 'minimum_maximum_nights',\n",
       "       'maximum_maximum_nights', 'minimum_nights_avg_ntm',\n",
       "       'maximum_nights_avg_ntm', 'calendar_updated', 'has_availability',\n",
       "       'availability_30', 'availability_60', 'availability_90',\n",
       "       'availability_365', 'calendar_last_scraped', 'number_of_reviews',\n",
       "       'number_of_reviews_ltm', 'number_of_reviews_l30d', 'first_review',\n",
       "       'last_review', 'review_scores_rating', 'review_scores_accuracy',\n",
       "       'review_scores_cleanliness', 'review_scores_checkin',\n",
       "       'review_scores_communication', 'review_scores_location',\n",
       "       'review_scores_value', 'license', 'instant_bookable',\n",
       "       'calculated_host_listings_count',\n",
       "       'calculated_host_listings_count_entire_homes',\n",
       "       'calculated_host_listings_count_private_rooms',\n",
       "       'calculated_host_listings_count_shared_rooms', 'reviews_per_month'],\n",
       "      dtype='object')"
      ]
     },
     "execution_count": 17,
     "metadata": {},
     "output_type": "execute_result"
    }
   ],
   "source": [
    "data.columns"
   ]
  },
  {
   "cell_type": "code",
   "execution_count": 18,
   "metadata": {
    "colab": {
     "base_uri": "https://localhost:8080/"
    },
    "executionInfo": {
     "elapsed": 8,
     "status": "ok",
     "timestamp": 1654098000280,
     "user": {
      "displayName": "Filip Gawroński",
      "userId": "00648330829298803344"
     },
     "user_tz": -120
    },
    "id": "y4YKbnqmUF4D",
    "outputId": "adff7763-64a9-46ed-b594-d0e69bb06084"
   },
   "outputs": [
    {
     "name": "stdout",
     "output_type": "stream",
     "text": [
      "<class 'pandas.core.frame.DataFrame'>\n",
      "RangeIndex: 7403 entries, 0 to 7402\n",
      "Data columns (total 74 columns):\n",
      " #   Column                                        Non-Null Count  Dtype  \n",
      "---  ------                                        --------------  -----  \n",
      " 0   id                                            7403 non-null   int64  \n",
      " 1   listing_url                                   7403 non-null   object \n",
      " 2   scrape_id                                     7403 non-null   int64  \n",
      " 3   last_scraped                                  7403 non-null   object \n",
      " 4   name                                          7402 non-null   object \n",
      " 5   description                                   7282 non-null   object \n",
      " 6   neighborhood_overview                         4777 non-null   object \n",
      " 7   picture_url                                   7403 non-null   object \n",
      " 8   host_id                                       7403 non-null   int64  \n",
      " 9   host_url                                      7403 non-null   object \n",
      " 10  host_name                                     7402 non-null   object \n",
      " 11  host_since                                    7402 non-null   object \n",
      " 12  host_location                                 7390 non-null   object \n",
      " 13  host_about                                    4453 non-null   object \n",
      " 14  host_response_time                            5393 non-null   object \n",
      " 15  host_response_rate                            5393 non-null   object \n",
      " 16  host_acceptance_rate                          5751 non-null   object \n",
      " 17  host_is_superhost                             7402 non-null   object \n",
      " 18  host_thumbnail_url                            7402 non-null   object \n",
      " 19  host_picture_url                              7402 non-null   object \n",
      " 20  host_neighbourhood                            6902 non-null   object \n",
      " 21  host_listings_count                           7402 non-null   float64\n",
      " 22  host_total_listings_count                     7402 non-null   float64\n",
      " 23  host_verifications                            7403 non-null   object \n",
      " 24  host_has_profile_pic                          7402 non-null   object \n",
      " 25  host_identity_verified                        7402 non-null   object \n",
      " 26  neighbourhood                                 4777 non-null   object \n",
      " 27  neighbourhood_cleansed                        7403 non-null   object \n",
      " 28  neighbourhood_group_cleansed                  0 non-null      float64\n",
      " 29  latitude                                      7403 non-null   float64\n",
      " 30  longitude                                     7403 non-null   float64\n",
      " 31  property_type                                 7403 non-null   object \n",
      " 32  room_type                                     7403 non-null   object \n",
      " 33  accommodates                                  7403 non-null   int64  \n",
      " 34  bathrooms                                     0 non-null      float64\n",
      " 35  bathrooms_text                                7391 non-null   object \n",
      " 36  bedrooms                                      6678 non-null   float64\n",
      " 37  beds                                          7253 non-null   float64\n",
      " 38  amenities                                     7403 non-null   object \n",
      " 39  price                                         7403 non-null   object \n",
      " 40  minimum_nights                                7403 non-null   int64  \n",
      " 41  maximum_nights                                7403 non-null   int64  \n",
      " 42  minimum_minimum_nights                        7400 non-null   float64\n",
      " 43  maximum_minimum_nights                        7400 non-null   float64\n",
      " 44  minimum_maximum_nights                        7400 non-null   float64\n",
      " 45  maximum_maximum_nights                        7400 non-null   float64\n",
      " 46  minimum_nights_avg_ntm                        7400 non-null   float64\n",
      " 47  maximum_nights_avg_ntm                        7400 non-null   float64\n",
      " 48  calendar_updated                              0 non-null      float64\n",
      " 49  has_availability                              7403 non-null   object \n",
      " 50  availability_30                               7403 non-null   int64  \n",
      " 51  availability_60                               7403 non-null   int64  \n",
      " 52  availability_90                               7403 non-null   int64  \n",
      " 53  availability_365                              7403 non-null   int64  \n",
      " 54  calendar_last_scraped                         7403 non-null   object \n",
      " 55  number_of_reviews                             7403 non-null   int64  \n",
      " 56  number_of_reviews_ltm                         7403 non-null   int64  \n",
      " 57  number_of_reviews_l30d                        7403 non-null   int64  \n",
      " 58  first_review                                  5689 non-null   object \n",
      " 59  last_review                                   5689 non-null   object \n",
      " 60  review_scores_rating                          5689 non-null   float64\n",
      " 61  review_scores_accuracy                        5627 non-null   float64\n",
      " 62  review_scores_cleanliness                     5628 non-null   float64\n",
      " 63  review_scores_checkin                         5625 non-null   float64\n",
      " 64  review_scores_communication                   5628 non-null   float64\n",
      " 65  review_scores_location                        5625 non-null   float64\n",
      " 66  review_scores_value                           5623 non-null   float64\n",
      " 67  license                                       1193 non-null   object \n",
      " 68  instant_bookable                              7403 non-null   object \n",
      " 69  calculated_host_listings_count                7403 non-null   int64  \n",
      " 70  calculated_host_listings_count_entire_homes   7403 non-null   int64  \n",
      " 71  calculated_host_listings_count_private_rooms  7403 non-null   int64  \n",
      " 72  calculated_host_listings_count_shared_rooms   7403 non-null   int64  \n",
      " 73  reviews_per_month                             5689 non-null   float64\n",
      "dtypes: float64(23), int64(17), object(34)\n",
      "memory usage: 4.2+ MB\n"
     ]
    }
   ],
   "source": [
    "data.info()"
   ]
  },
  {
   "cell_type": "markdown",
   "metadata": {
    "id": "b8BlcQYuUMEb"
   },
   "source": [
    "Columns with missing data"
   ]
  },
  {
   "cell_type": "code",
   "execution_count": 19,
   "metadata": {
    "colab": {
     "base_uri": "https://localhost:8080/"
    },
    "executionInfo": {
     "elapsed": 7,
     "status": "ok",
     "timestamp": 1654098000281,
     "user": {
      "displayName": "Filip Gawroński",
      "userId": "00648330829298803344"
     },
     "user_tz": -120
    },
    "id": "mRHAD4FjUOJk",
    "outputId": "472aee23-bfac-4267-f235-72a594e29294"
   },
   "outputs": [
    {
     "data": {
      "text/plain": [
       "bathrooms                       7403\n",
       "calendar_updated                7403\n",
       "neighbourhood_group_cleansed    7403\n",
       "license                         6210\n",
       "host_about                      2950\n",
       "neighborhood_overview           2626\n",
       "neighbourhood                   2626\n",
       "host_response_time              2010\n",
       "host_response_rate              2010\n",
       "review_scores_value             1780\n",
       "review_scores_location          1778\n",
       "review_scores_checkin           1778\n",
       "review_scores_accuracy          1776\n",
       "review_scores_communication     1775\n",
       "review_scores_cleanliness       1775\n",
       "reviews_per_month               1714\n",
       "review_scores_rating            1714\n",
       "last_review                     1714\n",
       "first_review                    1714\n",
       "host_acceptance_rate            1652\n",
       "bedrooms                         725\n",
       "host_neighbourhood               501\n",
       "beds                             150\n",
       "description                      121\n",
       "host_location                     13\n",
       "bathrooms_text                    12\n",
       "minimum_minimum_nights             3\n",
       "maximum_minimum_nights             3\n",
       "minimum_nights_avg_ntm             3\n",
       "maximum_maximum_nights             3\n",
       "minimum_maximum_nights             3\n",
       "maximum_nights_avg_ntm             3\n",
       "host_since                         1\n",
       "host_name                          1\n",
       "host_picture_url                   1\n",
       "host_is_superhost                  1\n",
       "host_thumbnail_url                 1\n",
       "host_listings_count                1\n",
       "host_total_listings_count          1\n",
       "host_has_profile_pic               1\n",
       "host_identity_verified             1\n",
       "name                               1\n",
       "dtype: int64"
      ]
     },
     "execution_count": 19,
     "metadata": {},
     "output_type": "execute_result"
    }
   ],
   "source": [
    "listings_na = data.isna().sum()\n",
    "listings_na[listings_na.values > 0].sort_values(ascending=False)"
   ]
  },
  {
   "cell_type": "markdown",
   "metadata": {
    "id": "BvpCbWMlUYgQ"
   },
   "source": [
    "Price column"
   ]
  },
  {
   "cell_type": "code",
   "execution_count": 48,
   "metadata": {
    "colab": {
     "base_uri": "https://localhost:8080/"
    },
    "executionInfo": {
     "elapsed": 280,
     "status": "ok",
     "timestamp": 1654098000557,
     "user": {
      "displayName": "Filip Gawroński",
      "userId": "00648330829298803344"
     },
     "user_tz": -120
    },
    "id": "vSgdNWn4UW_N",
    "outputId": "13808585-eca7-4ba8-b864-aeded83878e9"
   },
   "outputs": [
    {
     "data": {
      "text/plain": [
       "count     7326.000000\n",
       "unique            NaN\n",
       "top               NaN\n",
       "freq              NaN\n",
       "mean       170.035081\n",
       "std        147.903249\n",
       "min          9.000000\n",
       "25%         85.000000\n",
       "50%        125.000000\n",
       "75%        200.000000\n",
       "max       1200.000000\n",
       "Name: price, dtype: float64"
      ]
     },
     "execution_count": 48,
     "metadata": {},
     "output_type": "execute_result"
    }
   ],
   "source": [
    "data.describe(include=\"all\")[\"price\"]"
   ]
  },
  {
   "cell_type": "markdown",
   "metadata": {
    "id": "LVcmD1W_Ufhg"
   },
   "source": [
    "Converting price values from object to float"
   ]
  },
  {
   "cell_type": "code",
   "execution_count": 21,
   "metadata": {
    "colab": {
     "base_uri": "https://localhost:8080/"
    },
    "executionInfo": {
     "elapsed": 5,
     "status": "ok",
     "timestamp": 1654098000557,
     "user": {
      "displayName": "Filip Gawroński",
      "userId": "00648330829298803344"
     },
     "user_tz": -120
    },
    "id": "OqDSu4O3UgbK",
    "outputId": "1e93eb4e-eb78-43d7-d4b1-713386616de4"
   },
   "outputs": [
    {
     "data": {
      "text/plain": [
       "count      7403.000000\n",
       "unique             NaN\n",
       "top                NaN\n",
       "freq               NaN\n",
       "mean        197.079157\n",
       "std         456.804058\n",
       "min           0.000000\n",
       "25%          85.000000\n",
       "50%         127.000000\n",
       "75%         202.000000\n",
       "max       24999.000000\n",
       "Name: price, dtype: float64"
      ]
     },
     "execution_count": 21,
     "metadata": {},
     "output_type": "execute_result"
    }
   ],
   "source": [
    "data[\"price\"] = data[\"price\"].apply(lambda x: x.replace(\"$\", \"\")) # Remove dollar sign\n",
    "data[\"price\"] = data[\"price\"].apply(lambda x: x.replace(\",\", \"\")) # Remove thousand seperator\n",
    "data[\"price\"] = data[\"price\"].astype(\"float\") # Cast the column into type float\n",
    "data.describe(include=\"all\")[\"price\"]"
   ]
  },
  {
   "cell_type": "code",
   "execution_count": 22,
   "metadata": {
    "colab": {
     "base_uri": "https://localhost:8080/"
    },
    "executionInfo": {
     "elapsed": 3,
     "status": "ok",
     "timestamp": 1654098000557,
     "user": {
      "displayName": "Filip Gawroński",
      "userId": "00648330829298803344"
     },
     "user_tz": -120
    },
    "id": "__EtIemUUsdT",
    "outputId": "0a165136-04a5-4006-9b13-ea2f6ae8af24"
   },
   "outputs": [
    {
     "name": "stdout",
     "output_type": "stream",
     "text": [
      "99% properties have a price lower than  1200.00\n"
     ]
    }
   ],
   "source": [
    "print(\"99% properties have a price lower than {0: .2f}\".format(np.percentile(data.price, 99)))\n",
    "# Since 99% entries have a price that is lower than 761 , we choose to remove the rest as outliers.\n",
    "# We would like to create a new column \"price_range\" for visualisations later on. The choice of cutoff points (e.g. 20, 40, 60, etc) is inspired by the quartiles of column \"price\"."
   ]
  },
  {
   "cell_type": "code",
   "execution_count": 23,
   "metadata": {
    "colab": {
     "base_uri": "https://localhost:8080/",
     "height": 283
    },
    "executionInfo": {
     "elapsed": 387,
     "status": "ok",
     "timestamp": 1654098000942,
     "user": {
      "displayName": "Filip Gawroński",
      "userId": "00648330829298803344"
     },
     "user_tz": -120
    },
    "id": "cec2Keh-U2p9",
    "outputId": "a14eca02-39cb-4011-cf6a-270351fa59d9"
   },
   "outputs": [
    {
     "data": {
      "text/plain": [
       "<AxesSubplot:ylabel='Frequency'>"
      ]
     },
     "execution_count": 23,
     "metadata": {},
     "output_type": "execute_result"
    },
    {
     "data": {
      "image/png": "[encoded data removed]",
      "text/plain": [
       "<Figure size 576x396 with 1 Axes>"
      ]
     },
     "metadata": {},
     "output_type": "display_data"
    }
   ],
   "source": [
    "data.price.plot.hist()\n",
    "#This data needs to be trimmed due to outliers"
   ]
  },
  {
   "cell_type": "code",
   "execution_count": 24,
   "metadata": {
    "colab": {
     "base_uri": "https://localhost:8080/",
     "height": 283
    },
    "executionInfo": {
     "elapsed": 603,
     "status": "ok",
     "timestamp": 1654098001542,
     "user": {
      "displayName": "Filip Gawroński",
      "userId": "00648330829298803344"
     },
     "user_tz": -120
    },
    "id": "C36-hdg0U7PZ",
    "outputId": "ec3a78a3-3130-4cd6-9912-b44d0a113ca4"
   },
   "outputs": [
    {
     "data": {
      "text/plain": [
       "<AxesSubplot:ylabel='Frequency'>"
      ]
     },
     "execution_count": 24,
     "metadata": {},
     "output_type": "execute_result"
    },
    {
     "data": {
      "image/png": "[encoded data removed]",
      "text/plain": [
       "<Figure size 576x396 with 1 Axes>"
      ]
     },
     "metadata": {},
     "output_type": "display_data"
    }
   ],
   "source": [
    "data = data[(data.price <= np.percentile(data[\"price\"], 99)) & (data.price > 0)] # Exclude outliers\n",
    "data.price.plot.hist()"
   ]
  },
  {
   "cell_type": "code",
   "execution_count": 25,
   "metadata": {
    "colab": {
     "base_uri": "https://localhost:8080/",
     "height": 389
    },
    "executionInfo": {
     "elapsed": 14,
     "status": "ok",
     "timestamp": 1654098001551,
     "user": {
      "displayName": "Filip Gawroński",
      "userId": "00648330829298803344"
     },
     "user_tz": -120
    },
    "id": "TQou9lrnVArm",
    "outputId": "4ff76683-ea30-4fdc-dc92-dc53ee836c79"
   },
   "outputs": [
    {
     "data": {
      "image/png": "[encoded data removed]",
      "text/plain": [
       "<Figure size 576x396 with 1 Axes>"
      ]
     },
     "metadata": {},
     "output_type": "display_data"
    }
   ],
   "source": [
    "plt.style.use(\"seaborn\")\n",
    "price_range = pd.cut(data[\"price\"], \n",
    "                     bins=[0, 40, 80, 120, 160, 200, 240, data[\"price\"].max()], \n",
    "                     labels=[\"0-40\", \"40-80\", \"80-120\", \"120-160\", \"160-200\", \"200-240\", \"240+\"])\n",
    "data[\"price_range\"] = price_range \n",
    "data[\"price_range\"].value_counts().sort_index().plot(kind=\"bar\")\n",
    "plt.title(\"Number of Listings in each Price Range\")\n",
    "plt.show()"
   ]
  },
  {
   "cell_type": "code",
   "execution_count": 26,
   "metadata": {
    "executionInfo": {
     "elapsed": 302,
     "status": "ok",
     "timestamp": 1654098001841,
     "user": {
      "displayName": "Filip Gawroński",
      "userId": "00648330829298803344"
     },
     "user_tz": -120
    },
    "id": "uTTRVDlmWIkP"
   },
   "outputs": [],
   "source": [
    "selected = []\n",
    "host = ['host_is_superhost', 'host_neighbourhood', 'host_listings_count', 'host_total_listings_count', 'host_verifications', 'host_identity_verified']\n",
    "location = ['neighbourhood', 'neighbourhood_cleansed', 'neighbourhood_group_cleansed']\n",
    "geo = [\"latitude\", \"longitude\"]\n",
    "condition = ['property_type', 'room_type', 'bed_type', 'amenities', 'cleaning_fee', 'minimum_nights']\n",
    "review = ['review_scores_rating', 'review_scores_accuracy', 'review_scores_cleanliness', 'review_scores_checkin', 'review_scores_communication', 'review_scores_location', 'review_scores_value']\n",
    "size = ['space', 'accommodates', 'bathrooms', 'bedrooms', 'beds', 'square_feet']\n",
    "others = ['instant_bookable', 'is_business_travel_ready', 'cancellation_policy']"
   ]
  },
  {
   "cell_type": "markdown",
   "metadata": {
    "id": "w9It3Zn4WKRb"
   },
   "source": [
    "#Plots about hosts"
   ]
  },
  {
   "cell_type": "code",
   "execution_count": 27,
   "metadata": {
    "colab": {
     "base_uri": "https://localhost:8080/",
     "height": 394
    },
    "executionInfo": {
     "elapsed": 8,
     "status": "ok",
     "timestamp": 1654098001841,
     "user": {
      "displayName": "Filip Gawroński",
      "userId": "00648330829298803344"
     },
     "user_tz": -120
    },
    "id": "2PRN2jaAWOqz",
    "outputId": "733c81e8-0f02-4690-e38e-1c5bc1249141"
   },
   "outputs": [
    {
     "data": {
      "text/html": [
       "<div>\n",
       "<style scoped>\n",
       "    .dataframe tbody tr th:only-of-type {\n",
       "        vertical-align: middle;\n",
       "    }\n",
       "\n",
       "    .dataframe tbody tr th {\n",
       "        vertical-align: top;\n",
       "    }\n",
       "\n",
       "    .dataframe thead th {\n",
       "        text-align: right;\n",
       "    }\n",
       "</style>\n",
       "<table border=\"1\" class=\"dataframe\">\n",
       "  <thead>\n",
       "    <tr style=\"text-align: right;\">\n",
       "      <th></th>\n",
       "      <th>host_is_superhost</th>\n",
       "      <th>host_neighbourhood</th>\n",
       "      <th>host_listings_count</th>\n",
       "      <th>host_total_listings_count</th>\n",
       "      <th>host_verifications</th>\n",
       "      <th>host_identity_verified</th>\n",
       "    </tr>\n",
       "  </thead>\n",
       "  <tbody>\n",
       "    <tr>\n",
       "      <th>count</th>\n",
       "      <td>7325</td>\n",
       "      <td>6835</td>\n",
       "      <td>7325.000000</td>\n",
       "      <td>7325.000000</td>\n",
       "      <td>7326</td>\n",
       "      <td>7325</td>\n",
       "    </tr>\n",
       "    <tr>\n",
       "      <th>unique</th>\n",
       "      <td>2</td>\n",
       "      <td>198</td>\n",
       "      <td>NaN</td>\n",
       "      <td>NaN</td>\n",
       "      <td>272</td>\n",
       "      <td>2</td>\n",
       "    </tr>\n",
       "    <tr>\n",
       "      <th>top</th>\n",
       "      <td>f</td>\n",
       "      <td>Northwest Washington</td>\n",
       "      <td>NaN</td>\n",
       "      <td>NaN</td>\n",
       "      <td>['email', 'phone']</td>\n",
       "      <td>t</td>\n",
       "    </tr>\n",
       "    <tr>\n",
       "      <th>freq</th>\n",
       "      <td>5228</td>\n",
       "      <td>741</td>\n",
       "      <td>NaN</td>\n",
       "      <td>NaN</td>\n",
       "      <td>1157</td>\n",
       "      <td>6056</td>\n",
       "    </tr>\n",
       "    <tr>\n",
       "      <th>mean</th>\n",
       "      <td>NaN</td>\n",
       "      <td>NaN</td>\n",
       "      <td>136.849420</td>\n",
       "      <td>136.849420</td>\n",
       "      <td>NaN</td>\n",
       "      <td>NaN</td>\n",
       "    </tr>\n",
       "    <tr>\n",
       "      <th>std</th>\n",
       "      <td>NaN</td>\n",
       "      <td>NaN</td>\n",
       "      <td>504.596977</td>\n",
       "      <td>504.596977</td>\n",
       "      <td>NaN</td>\n",
       "      <td>NaN</td>\n",
       "    </tr>\n",
       "    <tr>\n",
       "      <th>min</th>\n",
       "      <td>NaN</td>\n",
       "      <td>NaN</td>\n",
       "      <td>0.000000</td>\n",
       "      <td>0.000000</td>\n",
       "      <td>NaN</td>\n",
       "      <td>NaN</td>\n",
       "    </tr>\n",
       "    <tr>\n",
       "      <th>25%</th>\n",
       "      <td>NaN</td>\n",
       "      <td>NaN</td>\n",
       "      <td>1.000000</td>\n",
       "      <td>1.000000</td>\n",
       "      <td>NaN</td>\n",
       "      <td>NaN</td>\n",
       "    </tr>\n",
       "    <tr>\n",
       "      <th>50%</th>\n",
       "      <td>NaN</td>\n",
       "      <td>NaN</td>\n",
       "      <td>2.000000</td>\n",
       "      <td>2.000000</td>\n",
       "      <td>NaN</td>\n",
       "      <td>NaN</td>\n",
       "    </tr>\n",
       "    <tr>\n",
       "      <th>75%</th>\n",
       "      <td>NaN</td>\n",
       "      <td>NaN</td>\n",
       "      <td>8.000000</td>\n",
       "      <td>8.000000</td>\n",
       "      <td>NaN</td>\n",
       "      <td>NaN</td>\n",
       "    </tr>\n",
       "    <tr>\n",
       "      <th>max</th>\n",
       "      <td>NaN</td>\n",
       "      <td>NaN</td>\n",
       "      <td>2972.000000</td>\n",
       "      <td>2972.000000</td>\n",
       "      <td>NaN</td>\n",
       "      <td>NaN</td>\n",
       "    </tr>\n",
       "  </tbody>\n",
       "</table>\n",
       "</div>"
      ],
      "text/plain": [
       "       host_is_superhost    host_neighbourhood  host_listings_count  \\\n",
       "count               7325                  6835          7325.000000   \n",
       "unique                 2                   198                  NaN   \n",
       "top                    f  Northwest Washington                  NaN   \n",
       "freq                5228                   741                  NaN   \n",
       "mean                 NaN                   NaN           136.849420   \n",
       "std                  NaN                   NaN           504.596977   \n",
       "min                  NaN                   NaN             0.000000   \n",
       "25%                  NaN                   NaN             1.000000   \n",
       "50%                  NaN                   NaN             2.000000   \n",
       "75%                  NaN                   NaN             8.000000   \n",
       "max                  NaN                   NaN          2972.000000   \n",
       "\n",
       "        host_total_listings_count  host_verifications host_identity_verified  \n",
       "count                 7325.000000                7326                   7325  \n",
       "unique                        NaN                 272                      2  \n",
       "top                           NaN  ['email', 'phone']                      t  \n",
       "freq                          NaN                1157                   6056  \n",
       "mean                   136.849420                 NaN                    NaN  \n",
       "std                    504.596977                 NaN                    NaN  \n",
       "min                      0.000000                 NaN                    NaN  \n",
       "25%                      1.000000                 NaN                    NaN  \n",
       "50%                      2.000000                 NaN                    NaN  \n",
       "75%                      8.000000                 NaN                    NaN  \n",
       "max                   2972.000000                 NaN                    NaN  "
      ]
     },
     "execution_count": 27,
     "metadata": {},
     "output_type": "execute_result"
    }
   ],
   "source": [
    "data.describe(include=\"all\")[host]"
   ]
  },
  {
   "cell_type": "code",
   "execution_count": 32,
   "metadata": {
    "colab": {
     "base_uri": "https://localhost:8080/",
     "height": 1000
    },
    "executionInfo": {
     "elapsed": 12430,
     "status": "ok",
     "timestamp": 1654098014265,
     "user": {
      "displayName": "Filip Gawroński",
      "userId": "00648330829298803344"
     },
     "user_tz": -120
    },
    "id": "vYdg9IsHx5Oe",
    "outputId": "30b40517-674e-4b1b-c219-a3c3d4151edb"
   },
   "outputs": [
    {
     "ename": "ValueError",
     "evalue": "Number of rows must be a positive integer, not 3.0",
     "output_type": "error",
     "traceback": [
      "\u001b[1;31m---------------------------------------------------------------------------\u001b[0m",
      "\u001b[1;31mValueError\u001b[0m                                Traceback (most recent call last)",
      "\u001b[1;32m~\\AppData\\Local\\Temp\\ipykernel_9468\\543198999.py\u001b[0m in \u001b[0;36m<module>\u001b[1;34m\u001b[0m\n\u001b[0;32m      3\u001b[0m \u001b[0mi\u001b[0m \u001b[1;33m=\u001b[0m \u001b[1;36m1\u001b[0m\u001b[1;33m\u001b[0m\u001b[0m\n\u001b[0;32m      4\u001b[0m \u001b[1;32mfor\u001b[0m \u001b[0mcol\u001b[0m \u001b[1;32min\u001b[0m \u001b[0mhost\u001b[0m\u001b[1;33m:\u001b[0m\u001b[1;33m\u001b[0m\u001b[0m\n\u001b[1;32m----> 5\u001b[1;33m   \u001b[0mplt\u001b[0m\u001b[1;33m.\u001b[0m\u001b[0msubplot\u001b[0m\u001b[1;33m(\u001b[0m\u001b[0mn_rows\u001b[0m\u001b[1;33m,\u001b[0m \u001b[0mn_cols\u001b[0m\u001b[1;33m,\u001b[0m \u001b[0mi\u001b[0m\u001b[1;33m)\u001b[0m\u001b[1;33m\u001b[0m\u001b[0m\n\u001b[0m\u001b[0;32m      6\u001b[0m   \u001b[0mavg_price_host\u001b[0m \u001b[1;33m=\u001b[0m \u001b[0mdata\u001b[0m\u001b[1;33m.\u001b[0m\u001b[0mgroupby\u001b[0m\u001b[1;33m(\u001b[0m\u001b[0mcol\u001b[0m\u001b[1;33m)\u001b[0m\u001b[1;33m.\u001b[0m\u001b[0mmean\u001b[0m\u001b[1;33m(\u001b[0m\u001b[1;33m)\u001b[0m\u001b[1;33m[\u001b[0m\u001b[1;34m\"price\"\u001b[0m\u001b[1;33m]\u001b[0m\u001b[1;33m\u001b[0m\u001b[0m\n\u001b[0;32m      7\u001b[0m   \u001b[0mavg_price_host\u001b[0m\u001b[1;33m.\u001b[0m\u001b[0mplot\u001b[0m\u001b[1;33m(\u001b[0m\u001b[0mkind\u001b[0m\u001b[1;33m=\u001b[0m\u001b[1;34m\"bar\"\u001b[0m\u001b[1;33m,\u001b[0m \u001b[0mfigsize\u001b[0m\u001b[1;33m=\u001b[0m\u001b[1;33m(\u001b[0m\u001b[1;36m8\u001b[0m\u001b[1;33m*\u001b[0m\u001b[0mn_cols\u001b[0m\u001b[1;33m,\u001b[0m \u001b[1;36m6\u001b[0m\u001b[1;33m*\u001b[0m\u001b[0mn_rows\u001b[0m\u001b[1;33m)\u001b[0m\u001b[1;33m)\u001b[0m\u001b[1;33m\u001b[0m\u001b[0m\n",
      "\u001b[1;32m~\\AppData\\Local\\Programs\\Python\\Python37\\lib\\site-packages\\matplotlib\\pyplot.py\u001b[0m in \u001b[0;36msubplot\u001b[1;34m(*args, **kwargs)\u001b[0m\n\u001b[0;32m   1287\u001b[0m \u001b[1;33m\u001b[0m\u001b[0m\n\u001b[0;32m   1288\u001b[0m     \u001b[1;31m# First, search for an existing subplot with a matching spec.\u001b[0m\u001b[1;33m\u001b[0m\u001b[1;33m\u001b[0m\u001b[0m\n\u001b[1;32m-> 1289\u001b[1;33m     \u001b[0mkey\u001b[0m \u001b[1;33m=\u001b[0m \u001b[0mSubplotSpec\u001b[0m\u001b[1;33m.\u001b[0m\u001b[0m_from_subplot_args\u001b[0m\u001b[1;33m(\u001b[0m\u001b[0mfig\u001b[0m\u001b[1;33m,\u001b[0m \u001b[0margs\u001b[0m\u001b[1;33m)\u001b[0m\u001b[1;33m\u001b[0m\u001b[0m\n\u001b[0m\u001b[0;32m   1290\u001b[0m \u001b[1;33m\u001b[0m\u001b[0m\n\u001b[0;32m   1291\u001b[0m     \u001b[1;32mfor\u001b[0m \u001b[0max\u001b[0m \u001b[1;32min\u001b[0m \u001b[0mfig\u001b[0m\u001b[1;33m.\u001b[0m\u001b[0maxes\u001b[0m\u001b[1;33m:\u001b[0m\u001b[1;33m\u001b[0m\u001b[0m\n",
      "\u001b[1;32m~\\AppData\\Local\\Programs\\Python\\Python37\\lib\\site-packages\\matplotlib\\gridspec.py\u001b[0m in \u001b[0;36m_from_subplot_args\u001b[1;34m(figure, args)\u001b[0m\n\u001b[0;32m    595\u001b[0m                             f\"{len(args)} were given\")\n\u001b[0;32m    596\u001b[0m \u001b[1;33m\u001b[0m\u001b[0m\n\u001b[1;32m--> 597\u001b[1;33m         \u001b[0mgs\u001b[0m \u001b[1;33m=\u001b[0m \u001b[0mGridSpec\u001b[0m\u001b[1;33m.\u001b[0m\u001b[0m_check_gridspec_exists\u001b[0m\u001b[1;33m(\u001b[0m\u001b[0mfigure\u001b[0m\u001b[1;33m,\u001b[0m \u001b[0mrows\u001b[0m\u001b[1;33m,\u001b[0m \u001b[0mcols\u001b[0m\u001b[1;33m)\u001b[0m\u001b[1;33m\u001b[0m\u001b[0m\n\u001b[0m\u001b[0;32m    598\u001b[0m         \u001b[1;32mif\u001b[0m \u001b[0mgs\u001b[0m \u001b[1;32mis\u001b[0m \u001b[1;32mNone\u001b[0m\u001b[1;33m:\u001b[0m\u001b[1;33m\u001b[0m\u001b[0m\n\u001b[0;32m    599\u001b[0m             \u001b[0mgs\u001b[0m \u001b[1;33m=\u001b[0m \u001b[0mGridSpec\u001b[0m\u001b[1;33m(\u001b[0m\u001b[0mrows\u001b[0m\u001b[1;33m,\u001b[0m \u001b[0mcols\u001b[0m\u001b[1;33m,\u001b[0m \u001b[0mfigure\u001b[0m\u001b[1;33m=\u001b[0m\u001b[0mfigure\u001b[0m\u001b[1;33m)\u001b[0m\u001b[1;33m\u001b[0m\u001b[0m\n",
      "\u001b[1;32m~\\AppData\\Local\\Programs\\Python\\Python37\\lib\\site-packages\\matplotlib\\gridspec.py\u001b[0m in \u001b[0;36m_check_gridspec_exists\u001b[1;34m(figure, nrows, ncols)\u001b[0m\n\u001b[0;32m    223\u001b[0m                     \u001b[1;32mreturn\u001b[0m \u001b[0mgs\u001b[0m\u001b[1;33m\u001b[0m\u001b[0m\n\u001b[0;32m    224\u001b[0m         \u001b[1;31m# else gridspec not found:\u001b[0m\u001b[1;33m\u001b[0m\u001b[1;33m\u001b[0m\u001b[0m\n\u001b[1;32m--> 225\u001b[1;33m         \u001b[1;32mreturn\u001b[0m \u001b[0mGridSpec\u001b[0m\u001b[1;33m(\u001b[0m\u001b[0mnrows\u001b[0m\u001b[1;33m,\u001b[0m \u001b[0mncols\u001b[0m\u001b[1;33m,\u001b[0m \u001b[0mfigure\u001b[0m\u001b[1;33m=\u001b[0m\u001b[0mfigure\u001b[0m\u001b[1;33m)\u001b[0m\u001b[1;33m\u001b[0m\u001b[0m\n\u001b[0m\u001b[0;32m    226\u001b[0m \u001b[1;33m\u001b[0m\u001b[0m\n\u001b[0;32m    227\u001b[0m     \u001b[1;32mdef\u001b[0m \u001b[0m__getitem__\u001b[0m\u001b[1;33m(\u001b[0m\u001b[0mself\u001b[0m\u001b[1;33m,\u001b[0m \u001b[0mkey\u001b[0m\u001b[1;33m)\u001b[0m\u001b[1;33m:\u001b[0m\u001b[1;33m\u001b[0m\u001b[0m\n",
      "\u001b[1;32m~\\AppData\\Local\\Programs\\Python\\Python37\\lib\\site-packages\\matplotlib\\gridspec.py\u001b[0m in \u001b[0;36m__init__\u001b[1;34m(self, nrows, ncols, figure, left, bottom, right, top, wspace, hspace, width_ratios, height_ratios)\u001b[0m\n\u001b[0;32m    385\u001b[0m         super().__init__(nrows, ncols,\n\u001b[0;32m    386\u001b[0m                          \u001b[0mwidth_ratios\u001b[0m\u001b[1;33m=\u001b[0m\u001b[0mwidth_ratios\u001b[0m\u001b[1;33m,\u001b[0m\u001b[1;33m\u001b[0m\u001b[0m\n\u001b[1;32m--> 387\u001b[1;33m                          height_ratios=height_ratios)\n\u001b[0m\u001b[0;32m    388\u001b[0m \u001b[1;33m\u001b[0m\u001b[0m\n\u001b[0;32m    389\u001b[0m     \u001b[0m_AllowedKeys\u001b[0m \u001b[1;33m=\u001b[0m \u001b[1;33m[\u001b[0m\u001b[1;34m\"left\"\u001b[0m\u001b[1;33m,\u001b[0m \u001b[1;34m\"bottom\"\u001b[0m\u001b[1;33m,\u001b[0m \u001b[1;34m\"right\"\u001b[0m\u001b[1;33m,\u001b[0m \u001b[1;34m\"top\"\u001b[0m\u001b[1;33m,\u001b[0m \u001b[1;34m\"wspace\"\u001b[0m\u001b[1;33m,\u001b[0m \u001b[1;34m\"hspace\"\u001b[0m\u001b[1;33m]\u001b[0m\u001b[1;33m\u001b[0m\u001b[0m\n",
      "\u001b[1;32m~\\AppData\\Local\\Programs\\Python\\Python37\\lib\\site-packages\\matplotlib\\gridspec.py\u001b[0m in \u001b[0;36m__init__\u001b[1;34m(self, nrows, ncols, height_ratios, width_ratios)\u001b[0m\n\u001b[0;32m     48\u001b[0m         \u001b[1;32mif\u001b[0m \u001b[1;32mnot\u001b[0m \u001b[0misinstance\u001b[0m\u001b[1;33m(\u001b[0m\u001b[0mnrows\u001b[0m\u001b[1;33m,\u001b[0m \u001b[0mIntegral\u001b[0m\u001b[1;33m)\u001b[0m \u001b[1;32mor\u001b[0m \u001b[0mnrows\u001b[0m \u001b[1;33m<=\u001b[0m \u001b[1;36m0\u001b[0m\u001b[1;33m:\u001b[0m\u001b[1;33m\u001b[0m\u001b[0m\n\u001b[0;32m     49\u001b[0m             raise ValueError(\n\u001b[1;32m---> 50\u001b[1;33m                 f\"Number of rows must be a positive integer, not {nrows!r}\")\n\u001b[0m\u001b[0;32m     51\u001b[0m         \u001b[1;32mif\u001b[0m \u001b[1;32mnot\u001b[0m \u001b[0misinstance\u001b[0m\u001b[1;33m(\u001b[0m\u001b[0mncols\u001b[0m\u001b[1;33m,\u001b[0m \u001b[0mIntegral\u001b[0m\u001b[1;33m)\u001b[0m \u001b[1;32mor\u001b[0m \u001b[0mncols\u001b[0m \u001b[1;33m<=\u001b[0m \u001b[1;36m0\u001b[0m\u001b[1;33m:\u001b[0m\u001b[1;33m\u001b[0m\u001b[0m\n\u001b[0;32m     52\u001b[0m             raise ValueError(\n",
      "\u001b[1;31mValueError\u001b[0m: Number of rows must be a positive integer, not 3.0"
     ]
    },
    {
     "data": {
      "text/plain": [
       "<Figure size 576x396 with 0 Axes>"
      ]
     },
     "metadata": {},
     "output_type": "display_data"
    }
   ],
   "source": [
    "n_cols = 3\n",
    "n_rows = np.ceil((len(host)+1)/n_cols)\n",
    "i = 1\n",
    "for col in host:\n",
    "  plt.subplot(n_rows, n_cols, i)\n",
    "  avg_price_host = data.groupby(col).mean()[\"price\"]\n",
    "  avg_price_host.plot(kind=\"bar\", figsize=(8*n_cols, 6*n_rows))\n",
    "  plt.title(\"Avg. Price grouped by \"+col)\n",
    "  i=i+1\n",
    "\n",
    "plt.show()"
   ]
  },
  {
   "cell_type": "code",
   "execution_count": 33,
   "metadata": {
    "executionInfo": {
     "elapsed": 12,
     "status": "ok",
     "timestamp": 1654098014265,
     "user": {
      "displayName": "Filip Gawroński",
      "userId": "00648330829298803344"
     },
     "user_tz": -120
    },
    "id": "fUIAg4OdyFo5"
   },
   "outputs": [],
   "source": [
    "index = []\n",
    "i=0\n",
    "for col in host:\n",
    "  if data[col].nunique() >= 10:\n",
    "    index.append(i)\n",
    "    i=i+1\n",
    "  else:\n",
    "    i=i+1\n",
    "    continue\n",
    "host = np.delete(host, index)"
   ]
  },
  {
   "cell_type": "code",
   "execution_count": 34,
   "metadata": {
    "colab": {
     "base_uri": "https://localhost:8080/",
     "height": 396
    },
    "executionInfo": {
     "elapsed": 478,
     "status": "ok",
     "timestamp": 1654098014732,
     "user": {
      "displayName": "Filip Gawroński",
      "userId": "00648330829298803344"
     },
     "user_tz": -120
    },
    "id": "HN-9ySJFyJkp",
    "outputId": "3876363b-ab07-4dbd-e4a1-b429840e0c3a"
   },
   "outputs": [
    {
     "ename": "ValueError",
     "evalue": "Number of rows must be a positive integer, not 1.0",
     "output_type": "error",
     "traceback": [
      "\u001b[1;31m---------------------------------------------------------------------------\u001b[0m",
      "\u001b[1;31mValueError\u001b[0m                                Traceback (most recent call last)",
      "\u001b[1;32m~\\AppData\\Local\\Temp\\ipykernel_9468\\543198999.py\u001b[0m in \u001b[0;36m<module>\u001b[1;34m\u001b[0m\n\u001b[0;32m      3\u001b[0m \u001b[0mi\u001b[0m \u001b[1;33m=\u001b[0m \u001b[1;36m1\u001b[0m\u001b[1;33m\u001b[0m\u001b[0m\n\u001b[0;32m      4\u001b[0m \u001b[1;32mfor\u001b[0m \u001b[0mcol\u001b[0m \u001b[1;32min\u001b[0m \u001b[0mhost\u001b[0m\u001b[1;33m:\u001b[0m\u001b[1;33m\u001b[0m\u001b[0m\n\u001b[1;32m----> 5\u001b[1;33m   \u001b[0mplt\u001b[0m\u001b[1;33m.\u001b[0m\u001b[0msubplot\u001b[0m\u001b[1;33m(\u001b[0m\u001b[0mn_rows\u001b[0m\u001b[1;33m,\u001b[0m \u001b[0mn_cols\u001b[0m\u001b[1;33m,\u001b[0m \u001b[0mi\u001b[0m\u001b[1;33m)\u001b[0m\u001b[1;33m\u001b[0m\u001b[0m\n\u001b[0m\u001b[0;32m      6\u001b[0m   \u001b[0mavg_price_host\u001b[0m \u001b[1;33m=\u001b[0m \u001b[0mdata\u001b[0m\u001b[1;33m.\u001b[0m\u001b[0mgroupby\u001b[0m\u001b[1;33m(\u001b[0m\u001b[0mcol\u001b[0m\u001b[1;33m)\u001b[0m\u001b[1;33m.\u001b[0m\u001b[0mmean\u001b[0m\u001b[1;33m(\u001b[0m\u001b[1;33m)\u001b[0m\u001b[1;33m[\u001b[0m\u001b[1;34m\"price\"\u001b[0m\u001b[1;33m]\u001b[0m\u001b[1;33m\u001b[0m\u001b[0m\n\u001b[0;32m      7\u001b[0m   \u001b[0mavg_price_host\u001b[0m\u001b[1;33m.\u001b[0m\u001b[0mplot\u001b[0m\u001b[1;33m(\u001b[0m\u001b[0mkind\u001b[0m\u001b[1;33m=\u001b[0m\u001b[1;34m\"bar\"\u001b[0m\u001b[1;33m,\u001b[0m \u001b[0mfigsize\u001b[0m\u001b[1;33m=\u001b[0m\u001b[1;33m(\u001b[0m\u001b[1;36m8\u001b[0m\u001b[1;33m*\u001b[0m\u001b[0mn_cols\u001b[0m\u001b[1;33m,\u001b[0m \u001b[1;36m6\u001b[0m\u001b[1;33m*\u001b[0m\u001b[0mn_rows\u001b[0m\u001b[1;33m)\u001b[0m\u001b[1;33m)\u001b[0m\u001b[1;33m\u001b[0m\u001b[0m\n",
      "\u001b[1;32m~\\AppData\\Local\\Programs\\Python\\Python37\\lib\\site-packages\\matplotlib\\pyplot.py\u001b[0m in \u001b[0;36msubplot\u001b[1;34m(*args, **kwargs)\u001b[0m\n\u001b[0;32m   1287\u001b[0m \u001b[1;33m\u001b[0m\u001b[0m\n\u001b[0;32m   1288\u001b[0m     \u001b[1;31m# First, search for an existing subplot with a matching spec.\u001b[0m\u001b[1;33m\u001b[0m\u001b[1;33m\u001b[0m\u001b[0m\n\u001b[1;32m-> 1289\u001b[1;33m     \u001b[0mkey\u001b[0m \u001b[1;33m=\u001b[0m \u001b[0mSubplotSpec\u001b[0m\u001b[1;33m.\u001b[0m\u001b[0m_from_subplot_args\u001b[0m\u001b[1;33m(\u001b[0m\u001b[0mfig\u001b[0m\u001b[1;33m,\u001b[0m \u001b[0margs\u001b[0m\u001b[1;33m)\u001b[0m\u001b[1;33m\u001b[0m\u001b[0m\n\u001b[0m\u001b[0;32m   1290\u001b[0m \u001b[1;33m\u001b[0m\u001b[0m\n\u001b[0;32m   1291\u001b[0m     \u001b[1;32mfor\u001b[0m \u001b[0max\u001b[0m \u001b[1;32min\u001b[0m \u001b[0mfig\u001b[0m\u001b[1;33m.\u001b[0m\u001b[0maxes\u001b[0m\u001b[1;33m:\u001b[0m\u001b[1;33m\u001b[0m\u001b[0m\n",
      "\u001b[1;32m~\\AppData\\Local\\Programs\\Python\\Python37\\lib\\site-packages\\matplotlib\\gridspec.py\u001b[0m in \u001b[0;36m_from_subplot_args\u001b[1;34m(figure, args)\u001b[0m\n\u001b[0;32m    595\u001b[0m                             f\"{len(args)} were given\")\n\u001b[0;32m    596\u001b[0m \u001b[1;33m\u001b[0m\u001b[0m\n\u001b[1;32m--> 597\u001b[1;33m         \u001b[0mgs\u001b[0m \u001b[1;33m=\u001b[0m \u001b[0mGridSpec\u001b[0m\u001b[1;33m.\u001b[0m\u001b[0m_check_gridspec_exists\u001b[0m\u001b[1;33m(\u001b[0m\u001b[0mfigure\u001b[0m\u001b[1;33m,\u001b[0m \u001b[0mrows\u001b[0m\u001b[1;33m,\u001b[0m \u001b[0mcols\u001b[0m\u001b[1;33m)\u001b[0m\u001b[1;33m\u001b[0m\u001b[0m\n\u001b[0m\u001b[0;32m    598\u001b[0m         \u001b[1;32mif\u001b[0m \u001b[0mgs\u001b[0m \u001b[1;32mis\u001b[0m \u001b[1;32mNone\u001b[0m\u001b[1;33m:\u001b[0m\u001b[1;33m\u001b[0m\u001b[0m\n\u001b[0;32m    599\u001b[0m             \u001b[0mgs\u001b[0m \u001b[1;33m=\u001b[0m \u001b[0mGridSpec\u001b[0m\u001b[1;33m(\u001b[0m\u001b[0mrows\u001b[0m\u001b[1;33m,\u001b[0m \u001b[0mcols\u001b[0m\u001b[1;33m,\u001b[0m \u001b[0mfigure\u001b[0m\u001b[1;33m=\u001b[0m\u001b[0mfigure\u001b[0m\u001b[1;33m)\u001b[0m\u001b[1;33m\u001b[0m\u001b[0m\n",
      "\u001b[1;32m~\\AppData\\Local\\Programs\\Python\\Python37\\lib\\site-packages\\matplotlib\\gridspec.py\u001b[0m in \u001b[0;36m_check_gridspec_exists\u001b[1;34m(figure, nrows, ncols)\u001b[0m\n\u001b[0;32m    223\u001b[0m                     \u001b[1;32mreturn\u001b[0m \u001b[0mgs\u001b[0m\u001b[1;33m\u001b[0m\u001b[0m\n\u001b[0;32m    224\u001b[0m         \u001b[1;31m# else gridspec not found:\u001b[0m\u001b[1;33m\u001b[0m\u001b[1;33m\u001b[0m\u001b[0m\n\u001b[1;32m--> 225\u001b[1;33m         \u001b[1;32mreturn\u001b[0m \u001b[0mGridSpec\u001b[0m\u001b[1;33m(\u001b[0m\u001b[0mnrows\u001b[0m\u001b[1;33m,\u001b[0m \u001b[0mncols\u001b[0m\u001b[1;33m,\u001b[0m \u001b[0mfigure\u001b[0m\u001b[1;33m=\u001b[0m\u001b[0mfigure\u001b[0m\u001b[1;33m)\u001b[0m\u001b[1;33m\u001b[0m\u001b[0m\n\u001b[0m\u001b[0;32m    226\u001b[0m \u001b[1;33m\u001b[0m\u001b[0m\n\u001b[0;32m    227\u001b[0m     \u001b[1;32mdef\u001b[0m \u001b[0m__getitem__\u001b[0m\u001b[1;33m(\u001b[0m\u001b[0mself\u001b[0m\u001b[1;33m,\u001b[0m \u001b[0mkey\u001b[0m\u001b[1;33m)\u001b[0m\u001b[1;33m:\u001b[0m\u001b[1;33m\u001b[0m\u001b[0m\n",
      "\u001b[1;32m~\\AppData\\Local\\Programs\\Python\\Python37\\lib\\site-packages\\matplotlib\\gridspec.py\u001b[0m in \u001b[0;36m__init__\u001b[1;34m(self, nrows, ncols, figure, left, bottom, right, top, wspace, hspace, width_ratios, height_ratios)\u001b[0m\n\u001b[0;32m    385\u001b[0m         super().__init__(nrows, ncols,\n\u001b[0;32m    386\u001b[0m                          \u001b[0mwidth_ratios\u001b[0m\u001b[1;33m=\u001b[0m\u001b[0mwidth_ratios\u001b[0m\u001b[1;33m,\u001b[0m\u001b[1;33m\u001b[0m\u001b[0m\n\u001b[1;32m--> 387\u001b[1;33m                          height_ratios=height_ratios)\n\u001b[0m\u001b[0;32m    388\u001b[0m \u001b[1;33m\u001b[0m\u001b[0m\n\u001b[0;32m    389\u001b[0m     \u001b[0m_AllowedKeys\u001b[0m \u001b[1;33m=\u001b[0m \u001b[1;33m[\u001b[0m\u001b[1;34m\"left\"\u001b[0m\u001b[1;33m,\u001b[0m \u001b[1;34m\"bottom\"\u001b[0m\u001b[1;33m,\u001b[0m \u001b[1;34m\"right\"\u001b[0m\u001b[1;33m,\u001b[0m \u001b[1;34m\"top\"\u001b[0m\u001b[1;33m,\u001b[0m \u001b[1;34m\"wspace\"\u001b[0m\u001b[1;33m,\u001b[0m \u001b[1;34m\"hspace\"\u001b[0m\u001b[1;33m]\u001b[0m\u001b[1;33m\u001b[0m\u001b[0m\n",
      "\u001b[1;32m~\\AppData\\Local\\Programs\\Python\\Python37\\lib\\site-packages\\matplotlib\\gridspec.py\u001b[0m in \u001b[0;36m__init__\u001b[1;34m(self, nrows, ncols, height_ratios, width_ratios)\u001b[0m\n\u001b[0;32m     48\u001b[0m         \u001b[1;32mif\u001b[0m \u001b[1;32mnot\u001b[0m \u001b[0misinstance\u001b[0m\u001b[1;33m(\u001b[0m\u001b[0mnrows\u001b[0m\u001b[1;33m,\u001b[0m \u001b[0mIntegral\u001b[0m\u001b[1;33m)\u001b[0m \u001b[1;32mor\u001b[0m \u001b[0mnrows\u001b[0m \u001b[1;33m<=\u001b[0m \u001b[1;36m0\u001b[0m\u001b[1;33m:\u001b[0m\u001b[1;33m\u001b[0m\u001b[0m\n\u001b[0;32m     49\u001b[0m             raise ValueError(\n\u001b[1;32m---> 50\u001b[1;33m                 f\"Number of rows must be a positive integer, not {nrows!r}\")\n\u001b[0m\u001b[0;32m     51\u001b[0m         \u001b[1;32mif\u001b[0m \u001b[1;32mnot\u001b[0m \u001b[0misinstance\u001b[0m\u001b[1;33m(\u001b[0m\u001b[0mncols\u001b[0m\u001b[1;33m,\u001b[0m \u001b[0mIntegral\u001b[0m\u001b[1;33m)\u001b[0m \u001b[1;32mor\u001b[0m \u001b[0mncols\u001b[0m \u001b[1;33m<=\u001b[0m \u001b[1;36m0\u001b[0m\u001b[1;33m:\u001b[0m\u001b[1;33m\u001b[0m\u001b[0m\n\u001b[0;32m     52\u001b[0m             raise ValueError(\n",
      "\u001b[1;31mValueError\u001b[0m: Number of rows must be a positive integer, not 1.0"
     ]
    },
    {
     "data": {
      "text/plain": [
       "<Figure size 576x396 with 0 Axes>"
      ]
     },
     "metadata": {},
     "output_type": "display_data"
    }
   ],
   "source": [
    "n_cols = 3\n",
    "n_rows = np.ceil((len(host)+1)/n_cols)\n",
    "i = 1\n",
    "for col in host:\n",
    "  plt.subplot(n_rows, n_cols, i)\n",
    "  avg_price_host = data.groupby(col).mean()[\"price\"]\n",
    "  avg_price_host.plot(kind=\"bar\", figsize=(8*n_cols, 6*n_rows))\n",
    "  plt.title(\"Avg. Price grouped by \"+col)\n",
    "  i=i+1\n",
    "\n",
    "plt.show()"
   ]
  },
  {
   "cell_type": "markdown",
   "metadata": {
    "id": "OguHS7gOyRUL"
   },
   "source": [
    "#Adjusting host data"
   ]
  },
  {
   "cell_type": "code",
   "execution_count": 35,
   "metadata": {
    "executionInfo": {
     "elapsed": 10,
     "status": "ok",
     "timestamp": 1654098014733,
     "user": {
      "displayName": "Filip Gawroński",
      "userId": "00648330829298803344"
     },
     "user_tz": -120
    },
    "id": "gdwoaF99yUFe"
   },
   "outputs": [],
   "source": [
    "data[\"host_is_superhost\"] = data[\"host_is_superhost\"].replace(np.NAN, \"f\")\n",
    "data[\"host_identity_verified\"] =data[\"host_identity_verified\"].replace(np.NAN, \"f\")"
   ]
  },
  {
   "cell_type": "markdown",
   "metadata": {
    "id": "QYM567MEyYwi"
   },
   "source": [
    "Now we can perform a statistical test: t-test"
   ]
  },
  {
   "cell_type": "code",
   "execution_count": 36,
   "metadata": {
    "colab": {
     "base_uri": "https://localhost:8080/"
    },
    "executionInfo": {
     "elapsed": 9,
     "status": "ok",
     "timestamp": 1654098014733,
     "user": {
      "displayName": "Filip Gawroński",
      "userId": "00648330829298803344"
     },
     "user_tz": -120
    },
    "id": "H26fGPJVyb-2",
    "outputId": "88153bdf-3e21-4b18-f628-1fcf921c925d"
   },
   "outputs": [
    {
     "name": "stdout",
     "output_type": "stream",
     "text": [
      "Test Multiple Comparison ttest_ind \n",
      "FWER=0.05 method=bonf\n",
      "alphacSidak=0.05, alphacBonf=0.050\n",
      "============================================\n",
      "group1 group2  stat   pval  pval_corr reject\n",
      "--------------------------------------------\n",
      "     f      t 2.3566 0.0185    0.0185   True\n",
      "--------------------------------------------\n",
      "Test Multiple Comparison ttest_ind \n",
      "FWER=0.05 method=bonf\n",
      "alphacSidak=0.05, alphacBonf=0.050\n",
      "============================================\n",
      "group1 group2  stat   pval  pval_corr reject\n",
      "--------------------------------------------\n",
      "     f      t 0.1971 0.8438    0.8438  False\n",
      "--------------------------------------------\n"
     ]
    }
   ],
   "source": [
    "from scipy import stats\n",
    "from statsmodels.stats.multicomp import (pairwise_tukeyhsd, MultiComparison)\n",
    "# Define multicomp function\n",
    "def multicomp(target_name, group_name, data):\n",
    "    if (np.nan in data[target_name]) | (np.nan in data[group_name]):\n",
    "        print(\"Please remove NaN in target variable or group variable!\")\n",
    "    elif (data[target_name].nunique() == 1) | (data[group_name].nunique() == 1):\n",
    "        print(\"There is only one unique value in target variable or group variable.\")\n",
    "    elif data[group_name].nunique() == 2:\n",
    "        mod = MultiComparison(data[target_name], data[group_name])\n",
    "        comp = mod.allpairtest(stats.ttest_ind)\n",
    "        print(comp[0])\n",
    "    else:\n",
    "        mod = MultiComparison(data[target_name], data[group_name])\n",
    "        print(mod.tukeyhsd().summary())\n",
    "multicomp(\"price\", \"host_is_superhost\", data)\n",
    "multicomp(\"price\", \"host_identity_verified\", data)"
   ]
  },
  {
   "cell_type": "markdown",
   "metadata": {
    "id": "7Zzy4DhjymOU"
   },
   "source": [
    "Both null hypotesis were not rejected, so no value of those above shall be used"
   ]
  },
  {
   "cell_type": "markdown",
   "metadata": {
    "id": "uXAnUImCzXU4"
   },
   "source": [
    "Let's handle host verifications"
   ]
  },
  {
   "cell_type": "code",
   "execution_count": 37,
   "metadata": {
    "executionInfo": {
     "elapsed": 8,
     "status": "ok",
     "timestamp": 1654098014733,
     "user": {
      "displayName": "Filip Gawroński",
      "userId": "00648330829298803344"
     },
     "user_tz": -120
    },
    "id": "F_RDTZ4CzciD"
   },
   "outputs": [],
   "source": [
    "data[\"host_ver_types\"] = data[\"host_verifications\"].apply(lambda x: x[1:-1].replace(\"\\'\", \"\").split(\", \"))\n",
    "#data[\"host_ver_types\"]\n",
    "#Ten kod sprawia, że z ['email', 'phone', 'reviews'] robi się [email, phone, reviews]"
   ]
  },
  {
   "cell_type": "code",
   "execution_count": 38,
   "metadata": {
    "executionInfo": {
     "elapsed": 9,
     "status": "ok",
     "timestamp": 1654098014734,
     "user": {
      "displayName": "Filip Gawroński",
      "userId": "00648330829298803344"
     },
     "user_tz": -120
    },
    "id": "j_ekMkXLzlf-"
   },
   "outputs": [],
   "source": [
    "data[\"host_ver_type_counts\"] = data[\"host_ver_types\"].apply(lambda x: len(x))\n",
    "#Ten kod sprawia, że zliczamy ilość typów weryfikacji w danej nieruchomości\n",
    "#data[\"host_ver_type_counts\"] "
   ]
  },
  {
   "cell_type": "code",
   "execution_count": 39,
   "metadata": {
    "colab": {
     "base_uri": "https://localhost:8080/",
     "height": 365
    },
    "executionInfo": {
     "elapsed": 9,
     "status": "ok",
     "timestamp": 1654098014734,
     "user": {
      "displayName": "Filip Gawroński",
      "userId": "00648330829298803344"
     },
     "user_tz": -120
    },
    "id": "hFx23WTnzrI6",
    "outputId": "06367a9d-d074-41fd-d215-28f58bfe0bc8"
   },
   "outputs": [
    {
     "data": {
      "text/plain": [
       "<AxesSubplot:>"
      ]
     },
     "execution_count": 39,
     "metadata": {},
     "output_type": "execute_result"
    },
    {
     "data": {
      "image/png": "[encoded data removed]",
      "text/plain": [
       "<Figure size 576x396 with 1 Axes>"
      ]
     },
     "metadata": {},
     "output_type": "display_data"
    }
   ],
   "source": [
    "data[\"host_ver_type_counts\"].hist()"
   ]
  },
  {
   "cell_type": "code",
   "execution_count": 40,
   "metadata": {
    "executionInfo": {
     "elapsed": 341,
     "status": "ok",
     "timestamp": 1654098015068,
     "user": {
      "displayName": "Filip Gawroński",
      "userId": "00648330829298803344"
     },
     "user_tz": -120
    },
    "id": "xkcG5Y3uz0Iw"
   },
   "outputs": [],
   "source": [
    "host_ver_types = []\n",
    "for i in data[\"host_ver_types\"]:\n",
    "    host_ver_types += i\n",
    "\n",
    "#host_ver_types\n",
    "#Ten kod iteruje nam po wszystkich typach weryfikacji i dodaje do nowo utworzonej listy (uwzględniając potęrzną ilość duplikatów)"
   ]
  },
  {
   "cell_type": "code",
   "execution_count": 41,
   "metadata": {
    "colab": {
     "base_uri": "https://localhost:8080/"
    },
    "executionInfo": {
     "elapsed": 12,
     "status": "ok",
     "timestamp": 1654098015068,
     "user": {
      "displayName": "Filip Gawroński",
      "userId": "00648330829298803344"
     },
     "user_tz": -120
    },
    "id": "CuvVgYcHz7Yl",
    "outputId": "6de3d6ba-91bd-4c42-fd90-b7b79eb571d3"
   },
   "outputs": [
    {
     "data": {
      "text/plain": [
       "{'': 2,\n",
       " 'manual_online': 55,\n",
       " 'government_id': 4162,\n",
       " 'jumio': 2866,\n",
       " 'selfie': 1972,\n",
       " 'manual_offline': 108,\n",
       " 'phone': 7314,\n",
       " 'email': 6862,\n",
       " 'facebook': 1007,\n",
       " 'kba': 1780,\n",
       " 'offline_government_id': 3130,\n",
       " 'work_email': 1583,\n",
       " 'on': 1,\n",
       " 'reviews': 4728,\n",
       " 'identity_manual': 1746,\n",
       " 'sent_id': 4,\n",
       " 'google': 440}"
      ]
     },
     "execution_count": 41,
     "metadata": {},
     "output_type": "execute_result"
    }
   ],
   "source": [
    "host_ver_types_freq = dict((x, host_ver_types.count(x)) for x in set(host_ver_types))\n",
    "host_ver_types_freq\n",
    "#Ten kod sprawdza, ile było weryfikacji daną drogą i imieszcza to w słowniku. Jakby co, to set, też jest zamknięty w {} i nie można zmienić jego wartości"
   ]
  },
  {
   "cell_type": "code",
   "execution_count": 42,
   "metadata": {
    "colab": {
     "base_uri": "https://localhost:8080/",
     "height": 519
    },
    "executionInfo": {
     "elapsed": 12,
     "status": "ok",
     "timestamp": 1654098015069,
     "user": {
      "displayName": "Filip Gawroński",
      "userId": "00648330829298803344"
     },
     "user_tz": -120
    },
    "id": "HcdmYyFs0DcD",
    "outputId": "3696c2c1-b164-4e7c-d59b-38b96ce09cb4"
   },
   "outputs": [
    {
     "data": {
      "text/html": [
       "<div>\n",
       "<style scoped>\n",
       "    .dataframe tbody tr th:only-of-type {\n",
       "        vertical-align: middle;\n",
       "    }\n",
       "\n",
       "    .dataframe tbody tr th {\n",
       "        vertical-align: top;\n",
       "    }\n",
       "\n",
       "    .dataframe thead th {\n",
       "        text-align: right;\n",
       "    }\n",
       "</style>\n",
       "<table border=\"1\" class=\"dataframe\">\n",
       "  <thead>\n",
       "    <tr style=\"text-align: right;\">\n",
       "      <th></th>\n",
       "      <th>Verification</th>\n",
       "      <th>Frequency</th>\n",
       "    </tr>\n",
       "  </thead>\n",
       "  <tbody>\n",
       "    <tr>\n",
       "      <th>12</th>\n",
       "      <td>on</td>\n",
       "      <td>1</td>\n",
       "    </tr>\n",
       "    <tr>\n",
       "      <th>0</th>\n",
       "      <td></td>\n",
       "      <td>2</td>\n",
       "    </tr>\n",
       "    <tr>\n",
       "      <th>15</th>\n",
       "      <td>sent_id</td>\n",
       "      <td>4</td>\n",
       "    </tr>\n",
       "    <tr>\n",
       "      <th>1</th>\n",
       "      <td>manual_online</td>\n",
       "      <td>55</td>\n",
       "    </tr>\n",
       "    <tr>\n",
       "      <th>5</th>\n",
       "      <td>manual_offline</td>\n",
       "      <td>108</td>\n",
       "    </tr>\n",
       "    <tr>\n",
       "      <th>16</th>\n",
       "      <td>google</td>\n",
       "      <td>440</td>\n",
       "    </tr>\n",
       "    <tr>\n",
       "      <th>8</th>\n",
       "      <td>facebook</td>\n",
       "      <td>1007</td>\n",
       "    </tr>\n",
       "    <tr>\n",
       "      <th>11</th>\n",
       "      <td>work_email</td>\n",
       "      <td>1583</td>\n",
       "    </tr>\n",
       "    <tr>\n",
       "      <th>14</th>\n",
       "      <td>identity_manual</td>\n",
       "      <td>1746</td>\n",
       "    </tr>\n",
       "    <tr>\n",
       "      <th>9</th>\n",
       "      <td>kba</td>\n",
       "      <td>1780</td>\n",
       "    </tr>\n",
       "    <tr>\n",
       "      <th>4</th>\n",
       "      <td>selfie</td>\n",
       "      <td>1972</td>\n",
       "    </tr>\n",
       "    <tr>\n",
       "      <th>3</th>\n",
       "      <td>jumio</td>\n",
       "      <td>2866</td>\n",
       "    </tr>\n",
       "    <tr>\n",
       "      <th>10</th>\n",
       "      <td>offline_government_id</td>\n",
       "      <td>3130</td>\n",
       "    </tr>\n",
       "    <tr>\n",
       "      <th>2</th>\n",
       "      <td>government_id</td>\n",
       "      <td>4162</td>\n",
       "    </tr>\n",
       "    <tr>\n",
       "      <th>13</th>\n",
       "      <td>reviews</td>\n",
       "      <td>4728</td>\n",
       "    </tr>\n",
       "    <tr>\n",
       "      <th>7</th>\n",
       "      <td>email</td>\n",
       "      <td>6862</td>\n",
       "    </tr>\n",
       "    <tr>\n",
       "      <th>6</th>\n",
       "      <td>phone</td>\n",
       "      <td>7314</td>\n",
       "    </tr>\n",
       "  </tbody>\n",
       "</table>\n",
       "</div>"
      ],
      "text/plain": [
       "             Verification  Frequency\n",
       "12                     on          1\n",
       "0                                  2\n",
       "15                sent_id          4\n",
       "1           manual_online         55\n",
       "5          manual_offline        108\n",
       "16                 google        440\n",
       "8                facebook       1007\n",
       "11             work_email       1583\n",
       "14        identity_manual       1746\n",
       "9                     kba       1780\n",
       "4                  selfie       1972\n",
       "3                   jumio       2866\n",
       "10  offline_government_id       3130\n",
       "2           government_id       4162\n",
       "13                reviews       4728\n",
       "7                   email       6862\n",
       "6                   phone       7314"
      ]
     },
     "execution_count": 42,
     "metadata": {},
     "output_type": "execute_result"
    }
   ],
   "source": [
    "host_ver_types_freq = pd.DataFrame.from_dict(host_ver_types_freq, orient=\"index\")\n",
    "#Robimy Dataframe z tego słownika powyżej\n",
    "host_ver_types_freq.reset_index(inplace=True)\n",
    "#Dokonujemy reset index\n",
    "host_ver_types_freq.columns = [\"Verification\", \"Frequency\"]\n",
    "#Zmieniamy nazwy kolumn\n",
    "host_ver_types_freq = host_ver_types_freq.sort_values(by=\"Frequency\", ascending=True)\n",
    "#Szeregujemy\n",
    "host_ver_types_freq"
   ]
  },
  {
   "cell_type": "code",
   "execution_count": 43,
   "metadata": {
    "colab": {
     "base_uri": "https://localhost:8080/",
     "height": 362
    },
    "executionInfo": {
     "elapsed": 278,
     "status": "ok",
     "timestamp": 1654098015336,
     "user": {
      "displayName": "Filip Gawroński",
      "userId": "00648330829298803344"
     },
     "user_tz": -120
    },
    "id": "B5MMNAxq0IJc",
    "outputId": "56f7cefa-0ea5-4a0a-949f-d2f4a89591b9"
   },
   "outputs": [
    {
     "data": {
      "image/png": "[encoded data removed]",
      "text/plain": [
       "<Figure size 576x396 with 1 Axes>"
      ]
     },
     "metadata": {},
     "output_type": "display_data"
    }
   ],
   "source": [
    "host_ver_types_freq.plot.barh(x=\"Verification\", y=\"Frequency\")\n",
    "plt.title(\"Most frequently used verification types\")\n",
    "plt.show()\n",
    "#Rysujemy wykres"
   ]
  },
  {
   "cell_type": "markdown",
   "metadata": {
    "id": "1TDThb7d0Rhm"
   },
   "source": [
    "#Geoplot"
   ]
  },
  {
   "cell_type": "code",
   "execution_count": 44,
   "metadata": {
    "executionInfo": {
     "elapsed": 1803,
     "status": "ok",
     "timestamp": 1654098017137,
     "user": {
      "displayName": "Filip Gawroński",
      "userId": "00648330829298803344"
     },
     "user_tz": -120
    },
    "id": "uU5gWIa20Ugj"
   },
   "outputs": [],
   "source": [
    "import plotly.graph_objects as go\n",
    "import plotly.express as px\n",
    "from plotly import tools\n",
    "from plotly.offline import plot as plotoffline\n",
    "import seaborn as sns"
   ]
  },
  {
   "cell_type": "markdown",
   "metadata": {
    "id": "hfJ9XSKm0WjK"
   },
   "source": [
    "Creating a dataset"
   ]
  },
  {
   "cell_type": "code",
   "execution_count": 45,
   "metadata": {
    "colab": {
     "base_uri": "https://localhost:8080/",
     "height": 0
    },
    "executionInfo": {
     "elapsed": 7,
     "status": "ok",
     "timestamp": 1654098017138,
     "user": {
      "displayName": "Filip Gawroński",
      "userId": "00648330829298803344"
     },
     "user_tz": -120
    },
    "id": "GcP9ApF10aco",
    "outputId": "f8facd76-07ec-4c32-f80a-0679b788fe3f"
   },
   "outputs": [
    {
     "data": {
      "text/html": [
       "<div>\n",
       "<style scoped>\n",
       "    .dataframe tbody tr th:only-of-type {\n",
       "        vertical-align: middle;\n",
       "    }\n",
       "\n",
       "    .dataframe tbody tr th {\n",
       "        vertical-align: top;\n",
       "    }\n",
       "\n",
       "    .dataframe thead th {\n",
       "        text-align: right;\n",
       "    }\n",
       "</style>\n",
       "<table border=\"1\" class=\"dataframe\">\n",
       "  <thead>\n",
       "    <tr style=\"text-align: right;\">\n",
       "      <th></th>\n",
       "      <th>latitude</th>\n",
       "      <th>longitude</th>\n",
       "      <th>price</th>\n",
       "    </tr>\n",
       "  </thead>\n",
       "  <tbody>\n",
       "    <tr>\n",
       "      <th>count</th>\n",
       "      <td>7326.000000</td>\n",
       "      <td>7326.000000</td>\n",
       "      <td>7326.000000</td>\n",
       "    </tr>\n",
       "    <tr>\n",
       "      <th>mean</th>\n",
       "      <td>38.911071</td>\n",
       "      <td>-77.016247</td>\n",
       "      <td>170.035081</td>\n",
       "    </tr>\n",
       "    <tr>\n",
       "      <th>std</th>\n",
       "      <td>0.025339</td>\n",
       "      <td>0.030250</td>\n",
       "      <td>147.903249</td>\n",
       "    </tr>\n",
       "    <tr>\n",
       "      <th>min</th>\n",
       "      <td>38.820280</td>\n",
       "      <td>-77.107210</td>\n",
       "      <td>9.000000</td>\n",
       "    </tr>\n",
       "    <tr>\n",
       "      <th>25%</th>\n",
       "      <td>38.898170</td>\n",
       "      <td>-77.035767</td>\n",
       "      <td>85.000000</td>\n",
       "    </tr>\n",
       "    <tr>\n",
       "      <th>50%</th>\n",
       "      <td>38.909870</td>\n",
       "      <td>-77.018730</td>\n",
       "      <td>125.000000</td>\n",
       "    </tr>\n",
       "    <tr>\n",
       "      <th>75%</th>\n",
       "      <td>38.923695</td>\n",
       "      <td>-76.997337</td>\n",
       "      <td>200.000000</td>\n",
       "    </tr>\n",
       "    <tr>\n",
       "      <th>max</th>\n",
       "      <td>38.997820</td>\n",
       "      <td>-76.910950</td>\n",
       "      <td>1200.000000</td>\n",
       "    </tr>\n",
       "  </tbody>\n",
       "</table>\n",
       "</div>"
      ],
      "text/plain": [
       "          latitude    longitude        price\n",
       "count  7326.000000  7326.000000  7326.000000\n",
       "mean     38.911071   -77.016247   170.035081\n",
       "std       0.025339     0.030250   147.903249\n",
       "min      38.820280   -77.107210     9.000000\n",
       "25%      38.898170   -77.035767    85.000000\n",
       "50%      38.909870   -77.018730   125.000000\n",
       "75%      38.923695   -76.997337   200.000000\n",
       "max      38.997820   -76.910950  1200.000000"
      ]
     },
     "execution_count": 45,
     "metadata": {},
     "output_type": "execute_result"
    }
   ],
   "source": [
    "geo = data[['latitude', 'longitude', 'price', 'price_range']]\n",
    "geo = geo.sort_values(\"price\", ascending=True) # This sorting is necessary for the color scale to work properly. \n",
    "geo.describe()"
   ]
  },
  {
   "cell_type": "markdown",
   "metadata": {
    "id": "vR2RDhqu0e6m"
   },
   "source": [
    "Simple scatter plot"
   ]
  },
  {
   "cell_type": "code",
   "execution_count": 46,
   "metadata": {
    "colab": {
     "base_uri": "https://localhost:8080/",
     "height": 0
    },
    "executionInfo": {
     "elapsed": 2211,
     "status": "ok",
     "timestamp": 1654098019344,
     "user": {
      "displayName": "Filip Gawroński",
      "userId": "00648330829298803344"
     },
     "user_tz": -120
    },
    "id": "cwbWz34H0fJY",
    "outputId": "e6d39e7c-879d-4c5d-948a-1eca512aacf6"
   },
   "outputs": [
    {
     "data": {
      "text/plain": [
       "<AxesSubplot:xlabel='longitude', ylabel='latitude'>"
      ]
     },
     "execution_count": 46,
     "metadata": {},
     "output_type": "execute_result"
    },
    {
     "data": {
      "image/png": "[encoded data removed]",
      "text/plain": [
       "<Figure size 576x396 with 1 Axes>"
      ]
     },
     "metadata": {},
     "output_type": "display_data"
    }
   ],
   "source": [
    "sns.scatterplot(x=\"longitude\", \n",
    "                y=\"latitude\", \n",
    "                hue=\"price\", \n",
    "                data=geo, \n",
    "                alpha=0.4)"
   ]
  },
  {
   "cell_type": "markdown",
   "metadata": {
    "id": "TpihTBAM0p7X"
   },
   "source": [
    "Below we have created map with marked prices from several ranges"
   ]
  },
  {
   "cell_type": "code",
   "execution_count": null,
   "metadata": {
    "executionInfo": {
     "elapsed": 15,
     "status": "ok",
     "timestamp": 1654098019345,
     "user": {
      "displayName": "Filip Gawroński",
      "userId": "00648330829298803344"
     },
     "user_tz": -120
    },
    "id": "bVRhaw3A0qnY"
   },
   "outputs": [],
   "source": [
    "# # Map plot\n",
    "# from textwrap import wrap\n",
    "\n",
    "# px.set_mapbox_access_token(\"pk.eyJ1IjoiZ2F3cm9ubiIsImEiOiJjbDNzeXllNWkxMnl4M2psdHRtZGZkODh0In0.hSntC8Rp50ICzYyvo606nA\") # Replace XXX with your Mapbox Token\n",
    "\n",
    "# #Token created here: https://account.mapbox.com/access-tokens \n",
    "# #I think, that simmilar map could be generated via one of books from python - ćwiczenia\n",
    "# fig = px.scatter_mapbox(geo, \n",
    "#                         lat=\"latitude\", \n",
    "#                         lon=\"longitude\", \n",
    "#                         color=\"price_range\",\n",
    "#                         color_continuous_scale=px.colors.sequential.Aggrnyl,# Na tej stronie można sobie wybierać różne skale kolorów https://plotly.com/python/builtin-colorscales/\n",
    "#                         opacity=0.9, \n",
    "#                         zoom=10)\n",
    "# fig.show()"
   ]
  },
  {
   "cell_type": "code",
   "execution_count": null,
   "metadata": {
    "colab": {
     "base_uri": "https://localhost:8080/"
    },
    "executionInfo": {
     "elapsed": 14,
     "status": "ok",
     "timestamp": 1654098019345,
     "user": {
      "displayName": "Filip Gawroński",
      "userId": "00648330829298803344"
     },
     "user_tz": -120
    },
    "id": "2qFEQi5K05a6",
    "outputId": "8ab95671-3823-44b2-960d-cf2f998a94fa"
   },
   "outputs": [],
   "source": [
    "data.neighbourhood_cleansed.unique()"
   ]
  },
  {
   "cell_type": "markdown",
   "metadata": {
    "id": "GzBRHk3h093W"
   },
   "source": [
    "Top 5 places in Geneva are:\n",
    "\n",
    "Jet d’Eau: 46.20781920740878, 6.1559458078945575\n",
    "\n",
    "UN: 46.22722304906608, 6.14029219999106\n",
    "\n",
    "Geneva flower clock & Jardin Anglais: 46.20651003559838, 6.151676906400394\n",
    "\n",
    "Parc Des Eaux Vives: 46.210636056069006, 6.167380187678211\n",
    "\n",
    "St Pierre Cathedral: 46.20170590767383, 6.148515900004998"
   ]
  },
  {
   "cell_type": "markdown",
   "metadata": {
    "id": "Ggd6AxZT2ivD"
   },
   "source": [
    "Calcuate the distance bwteen the listing and mianat tractions in Geneva"
   ]
  },
  {
   "cell_type": "code",
   "execution_count": null,
   "metadata": {
    "executionInfo": {
     "elapsed": 10,
     "status": "ok",
     "timestamp": 1654098019345,
     "user": {
      "displayName": "Filip Gawroński",
      "userId": "00648330829298803344"
     },
     "user_tz": -120
    },
    "id": "YSERzp-h2mB5"
   },
   "outputs": [],
   "source": [
    "# Formula to calculate distances\n",
    "from math import sin, cos, sqrt, atan2, radians\n",
    "def distance(lat1, lat2, lon1, lon2):\n",
    "    R = 6373.0\n",
    "    rlat1 = radians(lat1)\n",
    "    rlat2 = radians(lat2)\n",
    "    rlon1 = radians(lon1)\n",
    "    rlon2 = radians(lon2)\n",
    "    rdlon = rlon2 - rlon1\n",
    "    rdlat = rlat2 - rlat1\n",
    "    a = sin(rdlat / 2)**2 + cos(rlat1) * cos(rlat2) * sin(rdlon / 2)**2\n",
    "    c = 2 * atan2(sqrt(a), sqrt(1 - a))\n",
    "    distance = R * c\n",
    "    return distance"
   ]
  },
  {
   "cell_type": "code",
   "execution_count": null,
   "metadata": {
    "executionInfo": {
     "elapsed": 10,
     "status": "ok",
     "timestamp": 1654098019346,
     "user": {
      "displayName": "Filip Gawroński",
      "userId": "00648330829298803344"
     },
     "user_tz": -120
    },
    "id": "0BgGP0ak2pqK"
   },
   "outputs": [],
   "source": [
    "# Top locations in Riga\n",
    "toploc = {\"Jet\": [46.20781920740878, 6.1559458078945575], \n",
    "          \"UN\": [46.22722304906608, 6.14029219999106], \n",
    "          \"Jardin\": [46.20651003559838, 6.151676906400394], \n",
    "          \"Parc\": [46.210636056069006, 6.167380187678211], \n",
    "          \"Cathedral\": [46.20170590767383, 6.148515900004998]}"
   ]
  },
  {
   "cell_type": "code",
   "execution_count": null,
   "metadata": {
    "executionInfo": {
     "elapsed": 9,
     "status": "ok",
     "timestamp": 1654098019346,
     "user": {
      "displayName": "Filip Gawroński",
      "userId": "00648330829298803344"
     },
     "user_tz": -120
    },
    "id": "tBwMnWz63D7N"
   },
   "outputs": [],
   "source": [
    "toploc = pd.DataFrame.from_dict(toploc)\n",
    "toploc_trans = toploc.transpose()\n",
    "toploc_trans.columns = [\"latitude\", \"longitude\"]"
   ]
  },
  {
   "cell_type": "code",
   "execution_count": null,
   "metadata": {
    "executionInfo": {
     "elapsed": 9,
     "status": "ok",
     "timestamp": 1654098019346,
     "user": {
      "displayName": "Filip Gawroński",
      "userId": "00648330829298803344"
     },
     "user_tz": -120
    },
    "id": "BjFAFzEB3Gne"
   },
   "outputs": [],
   "source": [
    "# # Draw a plot with top locations\n",
    "\n",
    "# fig = px.scatter_mapbox(toploc_trans, \n",
    "#                         lat=\"latitude\", \n",
    "#                         lon=\"longitude\", \n",
    "#                         zoom=10)\n",
    "# fig.show()"
   ]
  },
  {
   "cell_type": "code",
   "execution_count": null,
   "metadata": {
    "executionInfo": {
     "elapsed": 1393,
     "status": "ok",
     "timestamp": 1654098020730,
     "user": {
      "displayName": "Filip Gawroński",
      "userId": "00648330829298803344"
     },
     "user_tz": -120
    },
    "id": "vrKWh9l13i31"
   },
   "outputs": [],
   "source": [
    "# Construct distance columns\n",
    "dist = []\n",
    "for col in toploc.columns:\n",
    "    data[\"dist_\"+col] = data.apply(lambda x: distance(x.latitude, toploc[col][0], x.longitude, toploc[col][1]), axis=1)\n",
    "    dist.append(\"dist_\"+col)\n",
    "\n",
    "#W liście dist znajdują się po prostu nazwy wszystkich hot lokacji\n",
    "#W tej pętli for zliczamy odległości między danym miejscem, a jedną z top lokalizacji. Ta odległość wpisana została do jednej z 5 nowych kolumn - reprezentujących odległości do top lokacji"
   ]
  },
  {
   "cell_type": "markdown",
   "metadata": {
    "id": "5SwzGGda3oQj"
   },
   "source": [
    "Below 5 last columns"
   ]
  },
  {
   "cell_type": "code",
   "execution_count": null,
   "metadata": {
    "colab": {
     "base_uri": "https://localhost:8080/",
     "height": 0
    },
    "executionInfo": {
     "elapsed": 352,
     "status": "ok",
     "timestamp": 1654098021078,
     "user": {
      "displayName": "Filip Gawroński",
      "userId": "00648330829298803344"
     },
     "user_tz": -120
    },
    "id": "sskUP5MD3l1K",
    "outputId": "6ee00617-229c-42ea-bc0b-489522e6ba54"
   },
   "outputs": [],
   "source": [
    "data.iloc[:5, -5:]"
   ]
  },
  {
   "cell_type": "code",
   "execution_count": null,
   "metadata": {
    "colab": {
     "base_uri": "https://localhost:8080/",
     "height": 0
    },
    "executionInfo": {
     "elapsed": 2762,
     "status": "ok",
     "timestamp": 1654098023838,
     "user": {
      "displayName": "Filip Gawroński",
      "userId": "00648330829298803344"
     },
     "user_tz": -120
    },
    "id": "hk0tvdZ03vw3",
    "outputId": "ecd84418-e0f6-416f-8a3a-523897ac7a94"
   },
   "outputs": [],
   "source": [
    "n_cols = 3\n",
    "n_rows = np.ceil((len(dist)+1)/n_cols)\n",
    "i = 1\n",
    "plt.figure(figsize=(8*n_cols, 6*n_rows))\n",
    "for distance in dist:\n",
    "  # Ważne, zeby zanotować, że distance przyjmuje nazwy nowo utworzonych kolumn\n",
    "  plt.subplot(n_rows, n_cols, i)\n",
    "  sns.scatterplot(x=distance, y=\"price\", data=data, alpha=0.3)\n",
    "  plt.title(\"Correlation between price and \"+distance)\n",
    "  i=i+1\n",
    "  print(\"The correlation between price and \"+distance+ \" is {0[0]: .4f} with a p-value of {0[1]: .4f}.\".format(stats.pearsonr(data[-data[distance].isna()][distance], data[-data[distance].isna()][\"price\"])))\n",
    "  # W tym princie jest stats.pearsonr. Odpowiada to za policzenie korelacji Pearsona w odniesieniu do ceny - jest to funkcja ze scipy\n",
    "plt.show()"
   ]
  },
  {
   "cell_type": "markdown",
   "metadata": {
    "id": "46lCLFDp341J"
   },
   "source": [
    "Corellation is high everywhere and p value is always 0"
   ]
  },
  {
   "cell_type": "code",
   "execution_count": null,
   "metadata": {
    "colab": {
     "base_uri": "https://localhost:8080/"
    },
    "executionInfo": {
     "elapsed": 414,
     "status": "ok",
     "timestamp": 1654098024249,
     "user": {
      "displayName": "Filip Gawroński",
      "userId": "00648330829298803344"
     },
     "user_tz": -120
    },
    "id": "sjrVT5Ym3-h1",
    "outputId": "b1f0f88d-d057-402c-cec4-193ba680d2fe"
   },
   "outputs": [],
   "source": [
    "# Tutaj robimy sobie kolejny zestaw kolumn związanych z dystansem (z suffixem _close) - tutaj są one jednak skategoryzowane - True, jesli jest blisko i false, jesli jest daleko\n",
    "for distance in dist:\n",
    "   data[distance+\"_close\"] = (data[distance] < data[distance].median())\n",
    "   print(data.groupby(distance+\"_close\").mean()[\"price\"])\n",
    "\n",
    "#Następnie dodajemy ostratnia kolumnę, w której dajemy werdykt na podstawie mediany, czy dany obiekt można uznać, za dobrze położony\n",
    "data[\"good_distance\"] = data.apply(lambda x: any([x.dist_Jet_close, x.dist_UN_close, x.dist_Jardin_close, x.dist_Parc_close, x.dist_Cathedral_close]), axis=1)"
   ]
  },
  {
   "cell_type": "markdown",
   "metadata": {
    "id": "GS83Qz_V4cAX"
   },
   "source": [
    "We can see histogram below, which informs us, that mean price of locations with small distance to top 5 attractions in the city is higher."
   ]
  },
  {
   "cell_type": "code",
   "execution_count": null,
   "metadata": {
    "colab": {
     "base_uri": "https://localhost:8080/",
     "height": 0
    },
    "executionInfo": {
     "elapsed": 11,
     "status": "ok",
     "timestamp": 1654098024249,
     "user": {
      "displayName": "Filip Gawroński",
      "userId": "00648330829298803344"
     },
     "user_tz": -120
    },
    "id": "zKNrWrjx4cOr",
    "outputId": "37d9d17b-f193-45d4-a4cc-441c61308a9f"
   },
   "outputs": [],
   "source": [
    "data.groupby(\"good_distance\").mean()[\"price\"].plot(kind=\"bar\")\n",
    "plt.show()"
   ]
  },
  {
   "cell_type": "code",
   "execution_count": null,
   "metadata": {
    "colab": {
     "base_uri": "https://localhost:8080/",
     "height": 0
    },
    "executionInfo": {
     "elapsed": 10,
     "status": "ok",
     "timestamp": 1654098024250,
     "user": {
      "displayName": "Filip Gawroński",
      "userId": "00648330829298803344"
     },
     "user_tz": -120
    },
    "id": "JS4-X1Fh4kC1",
    "outputId": "9379bc49-33f6-4f91-9ad5-e002e0f458d9"
   },
   "outputs": [],
   "source": [
    "data.iloc[:5, -6:]"
   ]
  },
  {
   "cell_type": "markdown",
   "metadata": {
    "id": "J-1yh4Um4o9l"
   },
   "source": [
    "We can append then this criterion to our selected table:"
   ]
  },
  {
   "cell_type": "code",
   "execution_count": null,
   "metadata": {
    "colab": {
     "base_uri": "https://localhost:8080/"
    },
    "executionInfo": {
     "elapsed": 9,
     "status": "ok",
     "timestamp": 1654098024250,
     "user": {
      "displayName": "Filip Gawroński",
      "userId": "00648330829298803344"
     },
     "user_tz": -120
    },
    "id": "m0vvlMOV4prQ",
    "outputId": "bb7d8c20-8f9d-4e2b-cb7a-5b15142a5b7a"
   },
   "outputs": [],
   "source": [
    "selected.append(\"good_distance\")\n",
    "selected"
   ]
  },
  {
   "cell_type": "markdown",
   "metadata": {
    "id": "ibxIdjlp9NiN"
   },
   "source": [
    "#Neighbourhood statistics"
   ]
  },
  {
   "cell_type": "markdown",
   "metadata": {
    "id": "-os7RRT99Uv6"
   },
   "source": [
    "We would also like to check the popularity and price level at each neighbourhood of Geneva."
   ]
  },
  {
   "cell_type": "code",
   "execution_count": null,
   "metadata": {
    "colab": {
     "base_uri": "https://localhost:8080/",
     "height": 0
    },
    "executionInfo": {
     "elapsed": 8,
     "status": "ok",
     "timestamp": 1654098024250,
     "user": {
      "displayName": "Filip Gawroński",
      "userId": "00648330829298803344"
     },
     "user_tz": -120
    },
    "id": "9lNyl2B79XrT",
    "outputId": "92b7b415-3c1a-460e-8f4b-02cf7a467bfa"
   },
   "outputs": [],
   "source": [
    "# Top popular nerghbourhoods\n",
    "neighbourhood_group_pop = pd.DataFrame(data[\"neighbourhood_cleansed\"].value_counts())\n",
    "neighbourhood_group_pop.head(5)\n",
    "#Tutaj zliczamy, ile jest lokali w danych dzielniach"
   ]
  },
  {
   "cell_type": "code",
   "execution_count": null,
   "metadata": {
    "colab": {
     "base_uri": "https://localhost:8080/",
     "height": 0
    },
    "executionInfo": {
     "elapsed": 348,
     "status": "ok",
     "timestamp": 1654098024591,
     "user": {
      "displayName": "Filip Gawroński",
      "userId": "00648330829298803344"
     },
     "user_tz": -120
    },
    "id": "OMxmysLl9fBM",
    "outputId": "2013efbb-8d9f-4bdc-96f9-dd6c7960f478"
   },
   "outputs": [],
   "source": [
    "# Average price of each neighbourhood\n",
    "neighbourhood_group_price = data.groupby(\"neighbourhood_cleansed\").mean()[\"price\"]\n",
    "neighbourhood_group_price = pd.DataFrame(neighbourhood_group_price)\n",
    "neighbourhood_group_price.sort_values(\"price\", ascending=False).head(5)\n",
    "#Tutaj zliczamy sredną cenę w danej dzielni - jeszcze posortowane"
   ]
  },
  {
   "cell_type": "code",
   "execution_count": null,
   "metadata": {
    "colab": {
     "base_uri": "https://localhost:8080/",
     "height": 0
    },
    "executionInfo": {
     "elapsed": 7,
     "status": "ok",
     "timestamp": 1654098024592,
     "user": {
      "displayName": "Filip Gawroński",
      "userId": "00648330829298803344"
     },
     "user_tz": -120
    },
    "id": "5Y7cKT329kzF",
    "outputId": "06480100-c197-4be3-adce-41809e359826"
   },
   "outputs": [],
   "source": [
    "# Create neighbourhood stats\n",
    "neighbourhood_stat = pd.merge(neighbourhood_group_pop, \n",
    "                              neighbourhood_group_price, \n",
    "                              how=\"inner\", left_index=True, right_index=True)\n",
    "neighbourhood_stat.reset_index(inplace=True)\n",
    "neighbourhood_stat.columns = [\"neighbourhood_cleansed\", \"count_properties\", \"avg_price\"]\n",
    "neighbourhood_stat = neighbourhood_stat.sort_values(by=\"count_properties\", ascending=False)\n",
    "neighbourhood_stat.head(10)\n",
    "#Tutaj mamy obie te listy zestawione"
   ]
  },
  {
   "cell_type": "code",
   "execution_count": null,
   "metadata": {
    "executionInfo": {
     "elapsed": 6,
     "status": "ok",
     "timestamp": 1654098024592,
     "user": {
      "displayName": "Filip Gawroński",
      "userId": "00648330829298803344"
     },
     "user_tz": -120
    },
    "id": "R36a9SqW9twL"
   },
   "outputs": [],
   "source": [
    "#Addition of filter, which consists of neighbourhoods with at least XXXX properties\n",
    "neighbourhood_stat_limited = neighbourhood_stat[neighbourhood_stat['count_properties']>40]"
   ]
  },
  {
   "cell_type": "code",
   "execution_count": null,
   "metadata": {
    "colab": {
     "base_uri": "https://localhost:8080/",
     "height": 0
    },
    "executionInfo": {
     "elapsed": 1229,
     "status": "ok",
     "timestamp": 1654098025816,
     "user": {
      "displayName": "Filip Gawroński",
      "userId": "00648330829298803344"
     },
     "user_tz": -120
    },
    "id": "cp9RedkK96cj",
    "outputId": "bc767a2b-9aa2-48f0-8e36-e94029082a7a"
   },
   "outputs": [],
   "source": [
    "#Drawing a plot with relation - No. of properties vs avg price in selected neighbourhood\n",
    "fig = plt.figure()\n",
    "ax = neighbourhood_stat_limited.plot(x=\"neighbourhood_cleansed\", y=\"count_properties\", kind=\"bar\", figsize=(14, 6))\n",
    "neighbourhood_stat_limited.plot(x=\"neighbourhood_cleansed\", y=\"avg_price\", secondary_y=True, color=\"red\", ax=ax)\n",
    "plt.show()"
   ]
  },
  {
   "cell_type": "markdown",
   "metadata": {
    "id": "zl2-49_U-Eph"
   },
   "source": [
    "#Condition statistics"
   ]
  },
  {
   "cell_type": "markdown",
   "metadata": {
    "id": "NRpry7j2-M8-"
   },
   "source": [
    "We would also like to check the impact of conditions."
   ]
  },
  {
   "cell_type": "markdown",
   "metadata": {
    "id": "T7YasKbh-pbp"
   },
   "source": [
    "!!!Uwaga. Z racji, iż u nas jest inny zestaw parametrów, niż w Berlinie, to lista condition została podmieniona!!!!"
   ]
  },
  {
   "cell_type": "code",
   "execution_count": null,
   "metadata": {
    "executionInfo": {
     "elapsed": 9,
     "status": "ok",
     "timestamp": 1654098025817,
     "user": {
      "displayName": "Filip Gawroński",
      "userId": "00648330829298803344"
     },
     "user_tz": -120
    },
    "id": "OGDrFmVH-pje"
   },
   "outputs": [],
   "source": [
    "condition = ['property_type', 'room_type', 'amenities', 'minimum_nights', 'maximum_nights']"
   ]
  },
  {
   "cell_type": "code",
   "execution_count": null,
   "metadata": {
    "colab": {
     "base_uri": "https://localhost:8080/",
     "height": 206
    },
    "executionInfo": {
     "elapsed": 8,
     "status": "ok",
     "timestamp": 1654098025817,
     "user": {
      "displayName": "Filip Gawroński",
      "userId": "00648330829298803344"
     },
     "user_tz": -120
    },
    "id": "gcOZ_QAt-Rzh",
    "outputId": "4d222d02-369b-4a39-dac2-4716f0fb5bd6"
   },
   "outputs": [],
   "source": [
    "data[condition].head()"
   ]
  },
  {
   "cell_type": "markdown",
   "metadata": {
    "id": "bp8pMzFq-wQj"
   },
   "source": [
    "property type"
   ]
  },
  {
   "cell_type": "code",
   "execution_count": null,
   "metadata": {
    "colab": {
     "base_uri": "https://localhost:8080/",
     "height": 363
    },
    "executionInfo": {
     "elapsed": 7,
     "status": "ok",
     "timestamp": 1654098025817,
     "user": {
      "displayName": "Filip Gawroński",
      "userId": "00648330829298803344"
     },
     "user_tz": -120
    },
    "id": "eRWNMmYt-yfv",
    "outputId": "0959fc6a-67eb-4fa0-aef9-a2fc8bde34a2"
   },
   "outputs": [],
   "source": [
    "# Tutaj zliczamy ile jest danych typów lokali i przypisujemy temu typowi avg cenę\n",
    "prop_type_avg_price = data.groupby(\"property_type\").mean()[\"price\"]\n",
    "prop_type_count_listings = data[\"property_type\"].value_counts()\n",
    "prop_type_stat = pd.merge(prop_type_count_listings, prop_type_avg_price, how=\"inner\", left_index=True, right_index=True)\n",
    "prop_type_stat.columns = [\"count_prop\", \"avg_price\"]\n",
    "prop_type_stat.sort_values(by=\"count_prop\", ascending=False).head(10)"
   ]
  },
  {
   "cell_type": "code",
   "execution_count": null,
   "metadata": {
    "colab": {
     "base_uri": "https://localhost:8080/",
     "height": 374
    },
    "executionInfo": {
     "elapsed": 974,
     "status": "ok",
     "timestamp": 1654098026785,
     "user": {
      "displayName": "Filip Gawroński",
      "userId": "00648330829298803344"
     },
     "user_tz": -120
    },
    "id": "GGK_2vsK_B2x",
    "outputId": "6467d7a1-ef46-4af1-b0de-2fcaa3fa89ce"
   },
   "outputs": [],
   "source": [
    "#Drawing a plot with relation - No. of properties vs avg price in selected property type\n",
    "prop_type_stat_limited = prop_type_stat[prop_type_stat['count_prop']>20] #Trzeba było ograniczyć liczbe rodzajów lokli\n",
    "fig = plt.figure()\n",
    "ax = prop_type_stat_limited['count_prop'].plot(x=\"neighbourhood_cleansed\", y=\"count_properties\", kind=\"bar\", figsize=(28, 6))\n",
    "prop_type_stat_limited['avg_price'].plot(x=\"neighbourhood_cleansed\", y=\"avg_price\", secondary_y=True, color=\"red\", ax=ax)\n",
    "plt.show()"
   ]
  },
  {
   "cell_type": "markdown",
   "metadata": {
    "id": "5PZW9A6IEjco"
   },
   "source": [
    "Room type"
   ]
  },
  {
   "cell_type": "code",
   "execution_count": null,
   "metadata": {
    "colab": {
     "base_uri": "https://localhost:8080/",
     "height": 175
    },
    "executionInfo": {
     "elapsed": 5,
     "status": "ok",
     "timestamp": 1654098026785,
     "user": {
      "displayName": "Filip Gawroński",
      "userId": "00648330829298803344"
     },
     "user_tz": -120
    },
    "id": "dppHye0zEmod",
    "outputId": "a9181618-255e-4258-d24c-eaf6a9f184e3"
   },
   "outputs": [],
   "source": [
    "# Tutaj zliczamy ile jest danych typów pokoi i przypisujemy temu typowi avg cenę\n",
    "room_type_avg_price = data.groupby(\"room_type\").mean()[\"price\"]\n",
    "room_type_count_listings = data[\"room_type\"].value_counts()\n",
    "room_type_stat = pd.merge(room_type_count_listings, room_type_avg_price, how=\"inner\", left_index=True, right_index=True)\n",
    "room_type_stat.columns = [\"count_prop\", \"avg_price\"]\n",
    "room_type_stat.sort_values(by=\"count_prop\", ascending=False).head(10)"
   ]
  },
  {
   "cell_type": "code",
   "execution_count": null,
   "metadata": {
    "colab": {
     "base_uri": "https://localhost:8080/",
     "height": 374
    },
    "executionInfo": {
     "elapsed": 1028,
     "status": "ok",
     "timestamp": 1654098027810,
     "user": {
      "displayName": "Filip Gawroński",
      "userId": "00648330829298803344"
     },
     "user_tz": -120
    },
    "id": "SsBQPSHmEv2x",
    "outputId": "12e0a0a5-c32d-4cda-c9d2-7ecb9fd26309"
   },
   "outputs": [],
   "source": [
    "#Drawing a plot with relation - No. of properties vs avg price in selected room type\n",
    "fig = plt.figure()\n",
    "ax = room_type_stat['count_prop'].plot(x=\"neighbourhood_cleansed\", y=\"count_properties\", kind=\"bar\", figsize=(10, 6))\n",
    "room_type_stat['avg_price'].plot(x=\"neighbourhood_cleansed\", y=\"avg_price\", secondary_y=True, color=\"red\", ax=ax)\n",
    "plt.show()"
   ]
  },
  {
   "cell_type": "markdown",
   "metadata": {
    "id": "C7bKAV_uE06j"
   },
   "source": [
    "Entire apartment has a significant higher price than a private room. Therefore we take it into our model."
   ]
  },
  {
   "cell_type": "code",
   "execution_count": null,
   "metadata": {
    "executionInfo": {
     "elapsed": 7,
     "status": "ok",
     "timestamp": 1654098027811,
     "user": {
      "displayName": "Filip Gawroński",
      "userId": "00648330829298803344"
     },
     "user_tz": -120
    },
    "id": "4kQ5FaArE1Bm"
   },
   "outputs": [],
   "source": [
    "data[\"is_entire_apt\"] = data[\"room_type\"]==\"Entire home/apt\"\n",
    "selected.append(\"is_entire_apt\")"
   ]
  },
  {
   "cell_type": "markdown",
   "metadata": {
    "id": "8td-io7RFKDm"
   },
   "source": [
    "Amendities"
   ]
  },
  {
   "cell_type": "code",
   "execution_count": null,
   "metadata": {
    "colab": {
     "base_uri": "https://localhost:8080/"
    },
    "executionInfo": {
     "elapsed": 6,
     "status": "ok",
     "timestamp": 1654098027811,
     "user": {
      "displayName": "Filip Gawroński",
      "userId": "00648330829298803344"
     },
     "user_tz": -120
    },
    "id": "3ylD6mSnFKhE",
    "outputId": "2949bef5-3d3f-4a54-83d0-dee29bca2f68"
   },
   "outputs": [],
   "source": [
    "data[\"amenities\"].head()"
   ]
  },
  {
   "cell_type": "code",
   "execution_count": null,
   "metadata": {
    "colab": {
     "base_uri": "https://localhost:8080/"
    },
    "executionInfo": {
     "elapsed": 5,
     "status": "ok",
     "timestamp": 1654098027811,
     "user": {
      "displayName": "Filip Gawroński",
      "userId": "00648330829298803344"
     },
     "user_tz": -120
    },
    "id": "hURinAPQFOF5",
    "outputId": "0ab5d894-dae2-4724-8fff-67124bf4e66a"
   },
   "outputs": [],
   "source": [
    "data[\"amenities\"] =data[\"amenities\"].apply(lambda x: x[1:-1].replace(\"\\'\", \"\").replace(' \"', '').replace('\"', '').split(\",\"))\n",
    "data[\"amenities\"].head()"
   ]
  },
  {
   "cell_type": "code",
   "execution_count": null,
   "metadata": {
    "executionInfo": {
     "elapsed": 3,
     "status": "ok",
     "timestamp": 1654098027811,
     "user": {
      "displayName": "Filip Gawroński",
      "userId": "00648330829298803344"
     },
     "user_tz": -120
    },
    "id": "SWOwmA8DFldB"
   },
   "outputs": [],
   "source": [
    "# Tutaj rozpisujemy wszystkie występujące amenities\n",
    "amenity_types = []\n",
    "for i in data[\"amenities\"]:\n",
    "    amenity_types += i\n",
    "#amenity_types"
   ]
  },
  {
   "cell_type": "code",
   "execution_count": null,
   "metadata": {
    "colab": {
     "base_uri": "https://localhost:8080/",
     "height": 833
    },
    "executionInfo": {
     "elapsed": 1476,
     "status": "ok",
     "timestamp": 1654098029284,
     "user": {
      "displayName": "Filip Gawroński",
      "userId": "00648330829298803344"
     },
     "user_tz": -120
    },
    "id": "1ZRo2FNiFq7a",
    "outputId": "1bbfa2d6-75f6-4a49-c4ee-152bddf05d42"
   },
   "outputs": [],
   "source": [
    "#Wyliczamy, ile jest danych amenity types i szeregujemy je po descending\n",
    "amenity_types_freq = dict((x, amenity_types.count(x)) for x in set(amenity_types))\n",
    "amenity_types_freq = pd.DataFrame.from_dict(amenity_types_freq, orient=\"index\")\n",
    "amenity_types_freq.reset_index(inplace=True)\n",
    "amenity_types_freq.columns = [\"Amenity\", \"Frequency\"]\n",
    "amenity_types_freq = amenity_types_freq.sort_values(by=\"Frequency\", ascending=False)\n",
    "amenity_types_freq.head(25)"
   ]
  },
  {
   "cell_type": "code",
   "execution_count": null,
   "metadata": {
    "colab": {
     "base_uri": "https://localhost:8080/",
     "height": 362
    },
    "executionInfo": {
     "elapsed": 1078,
     "status": "ok",
     "timestamp": 1654098030360,
     "user": {
      "displayName": "Filip Gawroński",
      "userId": "00648330829298803344"
     },
     "user_tz": -120
    },
    "id": "p9vku_4xF4gd",
    "outputId": "19606786-015d-4abf-dab1-b3ba5f5a3da3"
   },
   "outputs": [],
   "source": [
    "# Tysujemy plota z 20 najbardziej popularnymi\n",
    "amenity_types_freq.head(25).plot.barh(x=\"Amenity\", y=\"Frequency\")\n",
    "plt.title(\"Top20 most frequent amenity types\")\n",
    "plt.show()"
   ]
  },
  {
   "cell_type": "markdown",
   "metadata": {
    "id": "SedD09BmGAcm"
   },
   "source": [
    "90%+ listings have the Top3 features: kitchen, Essentials and heatLong term stays allowed. Therefore they won't have a huge impact on price. We choose to focuse on features that ~50% listings have. They are:"
   ]
  },
  {
   "cell_type": "markdown",
   "metadata": {
    "id": "HWECyZuoGBOk"
   },
   "source": [
    "Hot Water\n",
    "\n",
    "Hair dryer\n",
    "\n",
    "Dedicated workspace\n",
    "\n",
    "Washer\n",
    "\n",
    "Cooking basics\n",
    "\n",
    "Dishes and silverware\n",
    "\n",
    "Refrigerator\n",
    "\n",
    "Shampoo\n",
    "\n",
    "Elevator\n",
    "\n",
    "Bed linens\n",
    "\n",
    "Cofee maker\n",
    "\n",
    "TV\n",
    "\n",
    "Oven\n",
    "\n",
    "Stove\n",
    "\n",
    "Microwave"
   ]
  },
  {
   "cell_type": "code",
   "execution_count": null,
   "metadata": {
    "executionInfo": {
     "elapsed": 6,
     "status": "ok",
     "timestamp": 1654098030360,
     "user": {
      "displayName": "Filip Gawroński",
      "userId": "00648330829298803344"
     },
     "user_tz": -120
    },
    "id": "5cX8TifJGiqD"
   },
   "outputs": [],
   "source": [
    "#Tworzymy nowe kolumny z true/False, czy są tam amenitsy, które nas interesują\n",
    "data[\"with_Hot_Water\"] = data[\"amenities\"].apply(lambda x: 'Hot Water' in x)\n",
    "data[\"with_Hair_dryer\"] =data[\"amenities\"].apply(lambda x: 'Hair dryer' in x)\n",
    "data[\"with_Dedicated_workspace\"] = data[\"amenities\"].apply(lambda x: 'Dedicated workspace' in x)\n",
    "data[\"with_Washer\"] = data[\"amenities\"].apply(lambda x: 'Washer' in x)\n",
    "data[\"with_Cooking_basics\"] = data[\"amenities\"].apply(lambda x: 'Cooking basics' in x)\n",
    "data[\"with_Dishes_and_silverware\"] =data[\"amenities\"].apply(lambda x: 'Dishes and silverware' in x)\n",
    "data[\"with_Refrigerator\"] = data[\"amenities\"].apply(lambda x: 'Refrigerator' in x)\n",
    "data[\"with_Shampoo\"] = data[\"amenities\"].apply(lambda x: 'Shampoo' in x)\n",
    "data[\"with_Elevator\"] = data[\"amenities\"].apply(lambda x: 'Elevator' in x)\n",
    "data[\"with_Bed_linens\"] =data[\"amenities\"].apply(lambda x: 'Bed linens' in x)\n",
    "data[\"with_Coffee_maker\"] = data[\"amenities\"].apply(lambda x: 'Coffee maker' in x)\n",
    "data[\"with_TV\"] = data[\"amenities\"].apply(lambda x: 'TV' in x)\n",
    "data[\"with_Oven\"] =data[\"amenities\"].apply(lambda x: 'Oven' in x)\n",
    "data[\"with_Stove\"] = data[\"amenities\"].apply(lambda x: 'Stove' in x)\n",
    "data[\"with_Microwave\"] = data[\"amenities\"].apply(lambda x: 'Microwave' in x)"
   ]
  },
  {
   "cell_type": "code",
   "execution_count": null,
   "metadata": {
    "colab": {
     "base_uri": "https://localhost:8080/",
     "height": 363
    },
    "executionInfo": {
     "elapsed": 6,
     "status": "ok",
     "timestamp": 1654098030361,
     "user": {
      "displayName": "Filip Gawroński",
      "userId": "00648330829298803344"
     },
     "user_tz": -120
    },
    "id": "bYvT5EIiIVN0",
    "outputId": "01341f8f-ee93-4ed4-8025-6b8c7e317b95"
   },
   "outputs": [],
   "source": [
    "data.iloc[:10, -15:]"
   ]
  },
  {
   "cell_type": "code",
   "execution_count": null,
   "metadata": {
    "colab": {
     "base_uri": "https://localhost:8080/",
     "height": 209
    },
    "executionInfo": {
     "elapsed": 300,
     "status": "error",
     "timestamp": 1654122548664,
     "user": {
      "displayName": "Filip Gawroński",
      "userId": "00648330829298803344"
     },
     "user_tz": -120
    },
    "id": "kKjGsXevIZhT",
    "outputId": "8a55f395-5083-49b2-9be2-bd2c2827cf5a"
   },
   "outputs": [],
   "source": [
    "#Important!!!!! I have changed this one - it shall be reviewed!!!!!!!!!!!!!!!!!\n",
    "for amenit in data.iloc[:, -15:].columns:\n",
    "  print(amenit)\n",
    "  print(multicomp(\"price\", amenit, data))"
   ]
  },
  {
   "cell_type": "markdown",
   "metadata": {
    "id": "LUNQXsbOJA3L"
   },
   "source": [
    "We can reject null hypotesis for:\n",
    "\n",
    "Hair dryer\n",
    "\n",
    "Dedicated workspace\n",
    "\n",
    "Washer\n",
    "\n",
    "Shampoo\n",
    "\n",
    "Cofee maker"
   ]
  },
  {
   "cell_type": "code",
   "execution_count": null,
   "metadata": {
    "executionInfo": {
     "elapsed": 7,
     "status": "ok",
     "timestamp": 1654098030739,
     "user": {
      "displayName": "Filip Gawroński",
      "userId": "00648330829298803344"
     },
     "user_tz": -120
    },
    "id": "A0E61mpiH3ih"
   },
   "outputs": [],
   "source": [
    "for i in [\"with_Hair_dryer\", \"with_Dedicated_workspace\", \"with_Washer\", \"with_Shampoo\", \"with_Coffee_maker\"]:\n",
    "    selected.append(i)"
   ]
  },
  {
   "cell_type": "code",
   "execution_count": null,
   "metadata": {
    "colab": {
     "base_uri": "https://localhost:8080/"
    },
    "executionInfo": {
     "elapsed": 7,
     "status": "ok",
     "timestamp": 1654098030740,
     "user": {
      "displayName": "Filip Gawroński",
      "userId": "00648330829298803344"
     },
     "user_tz": -120
    },
    "id": "2fkBVfPVH3yR",
    "outputId": "3e18770e-f4a8-417e-c539-e273077dc059"
   },
   "outputs": [],
   "source": [
    "selected"
   ]
  },
  {
   "cell_type": "markdown",
   "metadata": {
    "id": "9NfuYhUkUGH-"
   },
   "source": [
    "Minimum nights"
   ]
  },
  {
   "cell_type": "code",
   "execution_count": null,
   "metadata": {
    "colab": {
     "base_uri": "https://localhost:8080/"
    },
    "executionInfo": {
     "elapsed": 6,
     "status": "ok",
     "timestamp": 1654098030740,
     "user": {
      "displayName": "Filip Gawroński",
      "userId": "00648330829298803344"
     },
     "user_tz": -120
    },
    "id": "3ehpUPmPUNmN",
    "outputId": "26d3923d-7b18-4cd6-f4e9-6b8759c26275"
   },
   "outputs": [],
   "source": [
    "data[\"minimum_nights\"].describe()"
   ]
  },
  {
   "cell_type": "code",
   "execution_count": null,
   "metadata": {
    "colab": {
     "base_uri": "https://localhost:8080/",
     "height": 1000
    },
    "executionInfo": {
     "elapsed": 6,
     "status": "ok",
     "timestamp": 1654098030740,
     "user": {
      "displayName": "Filip Gawroński",
      "userId": "00648330829298803344"
     },
     "user_tz": -120
    },
    "id": "yUYEkaP5WmCX",
    "outputId": "69a1ffc2-3d80-4b31-e0a4-31f2ab4941c6"
   },
   "outputs": [],
   "source": [
    "for i in range(2, 10):\n",
    "  data['min_nights_greater_than_{}'.format(i)] = data[\"minimum_nights\"] > i\n",
    "  multicomp(\"price\", 'min_nights_greater_than_{}'.format(i), data=data)\n",
    "data.iloc[:10, -8:]"
   ]
  },
  {
   "cell_type": "markdown",
   "metadata": {
    "id": "FnKBdwJhaWsl"
   },
   "source": [
    "We can saee, that p value is on proper value after min 7 nights - so it shall not be taken under consideration, due to clear negative impact after this value"
   ]
  },
  {
   "cell_type": "markdown",
   "metadata": {
    "id": "VWM7xamoaqCn"
   },
   "source": [
    "Lets see about maximum nights"
   ]
  },
  {
   "cell_type": "code",
   "execution_count": null,
   "metadata": {
    "colab": {
     "base_uri": "https://localhost:8080/"
    },
    "executionInfo": {
     "elapsed": 4,
     "status": "ok",
     "timestamp": 1654098030987,
     "user": {
      "displayName": "Filip Gawroński",
      "userId": "00648330829298803344"
     },
     "user_tz": -120
    },
    "id": "sOHmzxBras9j",
    "outputId": "91093281-9daf-4748-b0e9-9be8424152bd"
   },
   "outputs": [],
   "source": [
    "data[\"maximum_nights\"].describe()"
   ]
  },
  {
   "cell_type": "markdown",
   "metadata": {
    "id": "7YfU1_gxaybf"
   },
   "source": [
    "it is hard to estimate something here, so lets ged rid of this max nights criterion"
   ]
  },
  {
   "cell_type": "markdown",
   "metadata": {
    "id": "nOEkiywWa0fe"
   },
   "source": [
    "#Review statistics"
   ]
  },
  {
   "cell_type": "code",
   "execution_count": null,
   "metadata": {
    "colab": {
     "base_uri": "https://localhost:8080/",
     "height": 365
    },
    "executionInfo": {
     "elapsed": 619,
     "status": "ok",
     "timestamp": 1654098031604,
     "user": {
      "displayName": "Filip Gawroński",
      "userId": "00648330829298803344"
     },
     "user_tz": -120
    },
    "id": "5HR8tYSma62W",
    "outputId": "b313902b-8be8-42fd-db4d-1019a9fc6a04"
   },
   "outputs": [],
   "source": [
    "data[\"review_scores_rating\"].hist()"
   ]
  },
  {
   "cell_type": "code",
   "execution_count": null,
   "metadata": {
    "colab": {
     "base_uri": "https://localhost:8080/",
     "height": 394
    },
    "executionInfo": {
     "elapsed": 1257,
     "status": "ok",
     "timestamp": 1654098032858,
     "user": {
      "displayName": "Filip Gawroński",
      "userId": "00648330829298803344"
     },
     "user_tz": -120
    },
    "id": "zOlwxmDKa-s8",
    "outputId": "a5ea6a01-96f4-43d2-d847-4176b6962426"
   },
   "outputs": [],
   "source": [
    "# Scatter plot between review score and price\n",
    "import seaborn as sns\n",
    "import scipy.stats as stats\n",
    "sns.regplot(x=\"review_scores_rating\", y=\"price\", data=data[data[\"review_scores_rating\"]>=3])\n",
    "plt.title(\"Price vs Review Score Rating\")\n",
    "plt.show()\n",
    "print(\"The correlation between review score and price is {0[0]: .4f} with a p-value of {0[1]: .4f}.\".format(stats.pearsonr(data[-data[\"review_scores_rating\"].isna()][\"review_scores_rating\"], data[-data[\"review_scores_rating\"].isna()][\"price\"])))"
   ]
  },
  {
   "cell_type": "markdown",
   "metadata": {
    "id": "uhRUZp2mc2HU"
   },
   "source": [
    "Check the correlation between price and other scores"
   ]
  },
  {
   "cell_type": "code",
   "execution_count": null,
   "metadata": {
    "colab": {
     "base_uri": "https://localhost:8080/"
    },
    "executionInfo": {
     "elapsed": 10,
     "status": "ok",
     "timestamp": 1654098032859,
     "user": {
      "displayName": "Filip Gawroński",
      "userId": "00648330829298803344"
     },
     "user_tz": -120
    },
    "id": "ec_1X6Wec27_",
    "outputId": "86daa821-9662-4224-b43b-67d869d4221a"
   },
   "outputs": [],
   "source": [
    "for col in review:\n",
    "    print((\"The pearson correlation coefficient between \" + col + \" and price is {0[0]: .4f} with a p-value of {0[1]: .4f}.\").format(stats.pearsonr(data[-data[col].isna()][col],data[-data[col].isna()][\"price\"])))"
   ]
  },
  {
   "cell_type": "markdown",
   "metadata": {
    "id": "_0_hpq-pdAxr"
   },
   "source": [
    "Here we can see, that corelation is significant for:\n",
    "\n",
    "review_scores_cleanliness\n",
    "\n",
    "review_scores_checkin\n",
    "\n",
    "review_scores_location"
   ]
  },
  {
   "cell_type": "code",
   "execution_count": null,
   "metadata": {
    "executionInfo": {
     "elapsed": 8,
     "status": "ok",
     "timestamp": 1654098032859,
     "user": {
      "displayName": "Filip Gawroński",
      "userId": "00648330829298803344"
     },
     "user_tz": -120
    },
    "id": "v2F_CkKwdVct"
   },
   "outputs": [],
   "source": [
    "for i in [\"review_scores_cleanliness\", \"review_scores_checkin\", \"review_scores_location\"]:\n",
    "    selected.append(i)"
   ]
  },
  {
   "cell_type": "code",
   "execution_count": null,
   "metadata": {
    "colab": {
     "base_uri": "https://localhost:8080/"
    },
    "executionInfo": {
     "elapsed": 8,
     "status": "ok",
     "timestamp": 1654098032859,
     "user": {
      "displayName": "Filip Gawroński",
      "userId": "00648330829298803344"
     },
     "user_tz": -120
    },
    "id": "Q45jGtkOdmlJ",
    "outputId": "71d8e2a7-8450-41b8-e8ca-cd8b37f3c4f8"
   },
   "outputs": [],
   "source": [
    "selected"
   ]
  },
  {
   "cell_type": "markdown",
   "metadata": {
    "id": "KBr7N3JddwQk"
   },
   "source": [
    "#Size of apartment"
   ]
  },
  {
   "cell_type": "markdown",
   "metadata": {
    "id": "d055G7Nwd0oJ"
   },
   "source": [
    "Look at size-related variables"
   ]
  },
  {
   "cell_type": "code",
   "execution_count": null,
   "metadata": {
    "colab": {
     "base_uri": "https://localhost:8080/",
     "height": 0
    },
    "executionInfo": {
     "elapsed": 8,
     "status": "ok",
     "timestamp": 1654098032860,
     "user": {
      "displayName": "Filip Gawroński",
      "userId": "00648330829298803344"
     },
     "user_tz": -120
    },
    "id": "irDmwWqYd1UV",
    "outputId": "3b655471-fbd8-4776-8256-cfee76adf3e8"
   },
   "outputs": [],
   "source": [
    "#Need to adjust data to Riga provided columns\n",
    "size = ['accommodates', 'bathrooms', 'bedrooms', 'beds']\n",
    "data[size].head(10)"
   ]
  },
  {
   "cell_type": "code",
   "execution_count": null,
   "metadata": {
    "colab": {
     "base_uri": "https://localhost:8080/"
    },
    "executionInfo": {
     "elapsed": 7,
     "status": "ok",
     "timestamp": 1654098032860,
     "user": {
      "displayName": "Filip Gawroński",
      "userId": "00648330829298803344"
     },
     "user_tz": -120
    },
    "id": "qJE7VlVxeRYm",
    "outputId": "0f8e3ebd-e618-44d3-b8f9-e3eb6ea314e2"
   },
   "outputs": [],
   "source": [
    "data['bathrooms'].describe()"
   ]
  },
  {
   "cell_type": "markdown",
   "metadata": {
    "id": "-DQmD6z1eU6r"
   },
   "source": [
    "it occour, that there are no valuable info in bathrooms column"
   ]
  },
  {
   "cell_type": "code",
   "execution_count": null,
   "metadata": {
    "colab": {
     "base_uri": "https://localhost:8080/"
    },
    "executionInfo": {
     "elapsed": 6,
     "status": "ok",
     "timestamp": 1654098032860,
     "user": {
      "displayName": "Filip Gawroński",
      "userId": "00648330829298803344"
     },
     "user_tz": -120
    },
    "id": "ScmKWNiseUJL",
    "outputId": "f2c68946-4b64-4d28-c3f6-60af494166f6"
   },
   "outputs": [],
   "source": [
    "data['bathrooms_text'].unique()"
   ]
  },
  {
   "cell_type": "markdown",
   "metadata": {
    "id": "WFR56Aokead9"
   },
   "source": [
    "But we count find something interesting in 'bathrooms_text column'"
   ]
  },
  {
   "cell_type": "code",
   "execution_count": null,
   "metadata": {
    "colab": {
     "base_uri": "https://localhost:8080/",
     "height": 0
    },
    "executionInfo": {
     "elapsed": 389,
     "status": "ok",
     "timestamp": 1654098033243,
     "user": {
      "displayName": "Filip Gawroński",
      "userId": "00648330829298803344"
     },
     "user_tz": -120
    },
    "id": "dwyjA8qleclE",
    "outputId": "fd6e3b46-69f7-465d-c3f0-5303989c4ec7"
   },
   "outputs": [],
   "source": [
    "data['bathrooms'] = np.where(data['bathrooms_text'].str.contains('half',case=False, na=False), 0.5, \n",
    "                          data['bathrooms_text'].str.split().str[0]).astype(np.float64)\n",
    "data[size].head(10)"
   ]
  },
  {
   "cell_type": "markdown",
   "metadata": {
    "id": "vfI0aEGJmRUv"
   },
   "source": [
    "Check the correlation between number of accommodates and price"
   ]
  },
  {
   "cell_type": "code",
   "execution_count": null,
   "metadata": {
    "colab": {
     "base_uri": "https://localhost:8080/"
    },
    "executionInfo": {
     "elapsed": 5,
     "status": "ok",
     "timestamp": 1654098033243,
     "user": {
      "displayName": "Filip Gawroński",
      "userId": "00648330829298803344"
     },
     "user_tz": -120
    },
    "id": "qCKKJTt0mNdq",
    "outputId": "2db41fba-5037-417b-86da-670e0f9ceae2"
   },
   "outputs": [],
   "source": [
    "data[\"accommodates\"].describe()"
   ]
  },
  {
   "cell_type": "code",
   "execution_count": null,
   "metadata": {
    "colab": {
     "base_uri": "https://localhost:8080/",
     "height": 0
    },
    "executionInfo": {
     "elapsed": 283,
     "status": "ok",
     "timestamp": 1654098033522,
     "user": {
      "displayName": "Filip Gawroński",
      "userId": "00648330829298803344"
     },
     "user_tz": -120
    },
    "id": "o-1oqz0gmXBn",
    "outputId": "f5524409-290f-4afe-c178-faa8aa060b71"
   },
   "outputs": [],
   "source": [
    "data[\"accommodates\"].hist()"
   ]
  },
  {
   "cell_type": "code",
   "execution_count": null,
   "metadata": {
    "colab": {
     "base_uri": "https://localhost:8080/",
     "height": 0
    },
    "executionInfo": {
     "elapsed": 621,
     "status": "ok",
     "timestamp": 1654098034141,
     "user": {
      "displayName": "Filip Gawroński",
      "userId": "00648330829298803344"
     },
     "user_tz": -120
    },
    "id": "7Pd_FuKQmcqE",
    "outputId": "f6c4c5cd-d069-4ef5-f567-3f4abdb8893f"
   },
   "outputs": [],
   "source": [
    "data.groupby(\"accommodates\").mean()[\"price\"].plot(kind=\"bar\")\n",
    "plt.title(\"Avg. Price grouped by Number of Accommodates\")\n",
    "plt.show()\n",
    "print(\"The pearson correlation coefficient between ther number of acoommodates and price is {0[0]: .4f} with a p-value of {0[1]: .4f}.\".format(stats.pearsonr(data[\"accommodates\"], data[\"price\"])))"
   ]
  },
  {
   "cell_type": "markdown",
   "metadata": {
    "id": "k2lQIkgomjQA"
   },
   "source": [
    "Accommodates can be used as a proxy of space and has sig. correlation with price."
   ]
  },
  {
   "cell_type": "code",
   "execution_count": null,
   "metadata": {
    "colab": {
     "base_uri": "https://localhost:8080/"
    },
    "executionInfo": {
     "elapsed": 5,
     "status": "ok",
     "timestamp": 1654098034141,
     "user": {
      "displayName": "Filip Gawroński",
      "userId": "00648330829298803344"
     },
     "user_tz": -120
    },
    "id": "wDpds73lmkEz",
    "outputId": "a60c2f5f-fef9-4a38-933a-7635d354e794"
   },
   "outputs": [],
   "source": [
    "selected.append(\"accommodates\")\n",
    "selected"
   ]
  },
  {
   "cell_type": "markdown",
   "metadata": {
    "id": "Rl71Dq5DmwHV"
   },
   "source": [
    "Check the correlation bewteen accommodates and other size variables"
   ]
  },
  {
   "cell_type": "code",
   "execution_count": null,
   "metadata": {
    "colab": {
     "base_uri": "https://localhost:8080/",
     "height": 0
    },
    "executionInfo": {
     "elapsed": 897,
     "status": "ok",
     "timestamp": 1654098035035,
     "user": {
      "displayName": "Filip Gawroński",
      "userId": "00648330829298803344"
     },
     "user_tz": -120
    },
    "id": "56uQr1aWmrg8",
    "outputId": "d1289390-4309-43af-dee7-2f9f06156ce7"
   },
   "outputs": [],
   "source": [
    "size_variables = data[size]\n",
    "size_corr = size_variables.corr()\n",
    "colormap = sns.diverging_palette(220, 10, as_cmap=True)\n",
    "sns.heatmap(size_corr, cmap=colormap, annot=True, fmt=\".4f\")"
   ]
  },
  {
   "cell_type": "markdown",
   "metadata": {
    "id": "4aNhhDc5mzgp"
   },
   "source": [
    "Conclusion: the variable \"accommodates\" is highly correlated with \"beds\" and \"bedrooms\", so it is sufficient to include only accommodates into our model."
   ]
  },
  {
   "cell_type": "markdown",
   "metadata": {
    "id": "hLIPKlzHm0DV"
   },
   "source": [
    "nevertheless, due to bedrooms is more important factor, when we are concluding buying apartment - i will add this factor too."
   ]
  },
  {
   "cell_type": "code",
   "execution_count": null,
   "metadata": {
    "colab": {
     "base_uri": "https://localhost:8080/"
    },
    "executionInfo": {
     "elapsed": 423,
     "status": "ok",
     "timestamp": 1654098035452,
     "user": {
      "displayName": "Filip Gawroński",
      "userId": "00648330829298803344"
     },
     "user_tz": -120
    },
    "id": "MfnrIzdlnEPx",
    "outputId": "c8dedda9-8f00-438c-e223-ca28aef7223a"
   },
   "outputs": [],
   "source": [
    "selected.append(\"bedrooms\")\n",
    "selected"
   ]
  },
  {
   "cell_type": "markdown",
   "metadata": {
    "id": "FX4lN_50nC0v"
   },
   "source": [
    "#Other conditions"
   ]
  },
  {
   "cell_type": "code",
   "execution_count": null,
   "metadata": {
    "colab": {
     "base_uri": "https://localhost:8080/",
     "height": 0
    },
    "executionInfo": {
     "elapsed": 7,
     "status": "ok",
     "timestamp": 1654098035454,
     "user": {
      "displayName": "Filip Gawroński",
      "userId": "00648330829298803344"
     },
     "user_tz": -120
    },
    "id": "UIGs3xcinOrt",
    "outputId": "04049d65-ccba-44f8-ddc2-e99c5b3167b2"
   },
   "outputs": [],
   "source": [
    "# I had to limit it due to Riga data\n",
    "others = ['instant_bookable']\n",
    "data[others].head()"
   ]
  },
  {
   "cell_type": "code",
   "execution_count": null,
   "metadata": {
    "colab": {
     "base_uri": "https://localhost:8080/",
     "height": 0
    },
    "executionInfo": {
     "elapsed": 604,
     "status": "ok",
     "timestamp": 1654098036054,
     "user": {
      "displayName": "Filip Gawroński",
      "userId": "00648330829298803344"
     },
     "user_tz": -120
    },
    "id": "3WLSGesAnXxY",
    "outputId": "1c816cfd-fa2b-490f-a11f-24dbec88c7b4"
   },
   "outputs": [],
   "source": [
    "data[\"instant_bookable\"].value_counts()\n",
    "multicomp(\"price\", \"instant_bookable\", data)\n",
    "data.groupby(\"instant_bookable\").mean()[\"price\"].plot(kind=\"bar\")\n",
    "plt.title(\"Avg. Price split by Instant Bookable Policy\")\n",
    "plt.show()"
   ]
  },
  {
   "cell_type": "markdown",
   "metadata": {
    "id": "s84LeYeDnbVI"
   },
   "source": [
    "We can add instant bookable then"
   ]
  },
  {
   "cell_type": "code",
   "execution_count": null,
   "metadata": {
    "colab": {
     "base_uri": "https://localhost:8080/"
    },
    "executionInfo": {
     "elapsed": 8,
     "status": "ok",
     "timestamp": 1654098036054,
     "user": {
      "displayName": "Filip Gawroński",
      "userId": "00648330829298803344"
     },
     "user_tz": -120
    },
    "id": "kvqAXORTnnWe",
    "outputId": "bc6e8ca8-a8d3-47c4-f758-24caa01a256e"
   },
   "outputs": [],
   "source": [
    "selected.append(\"instant_bookable\")\n",
    "selected"
   ]
  },
  {
   "cell_type": "markdown",
   "metadata": {
    "id": "Dp_pbF6fnqpa"
   },
   "source": [
    "We have all selected values!!!"
   ]
  },
  {
   "cell_type": "markdown",
   "metadata": {
    "id": "tDaUetcXntX3"
   },
   "source": [
    "#Feature engineering"
   ]
  },
  {
   "cell_type": "code",
   "execution_count": null,
   "metadata": {
    "colab": {
     "base_uri": "https://localhost:8080/"
    },
    "executionInfo": {
     "elapsed": 6,
     "status": "ok",
     "timestamp": 1654098036055,
     "user": {
      "displayName": "Filip Gawroński",
      "userId": "00648330829298803344"
     },
     "user_tz": -120
    },
    "id": "3zI-rvEsntfj",
    "outputId": "38f53732-08d8-4b86-9f93-4338a91f3f57"
   },
   "outputs": [],
   "source": [
    "data[selected].info()"
   ]
  },
  {
   "cell_type": "markdown",
   "metadata": {
    "id": "BSNFPzlGn8o3"
   },
   "source": [
    "Convert string variables into categorical variables"
   ]
  },
  {
   "cell_type": "code",
   "execution_count": null,
   "metadata": {
    "executionInfo": {
     "elapsed": 5,
     "status": "ok",
     "timestamp": 1654098036055,
     "user": {
      "displayName": "Filip Gawroński",
      "userId": "00648330829298803344"
     },
     "user_tz": -120
    },
    "id": "2BG4Xg8Dn8wF"
   },
   "outputs": [],
   "source": [
    "data[\"instant_bookable\"] = data[\"instant_bookable\"]==\"t\""
   ]
  },
  {
   "cell_type": "code",
   "execution_count": null,
   "metadata": {
    "executionInfo": {
     "elapsed": 491,
     "status": "ok",
     "timestamp": 1654098036541,
     "user": {
      "displayName": "Filip Gawroński",
      "userId": "00648330829298803344"
     },
     "user_tz": -120
    },
    "id": "_LOzhSdnoBI1"
   },
   "outputs": [],
   "source": [
    "for col in data[selected].select_dtypes(\"bool\").columns:\n",
    "    data[col] = data[col].astype(\"int\")"
   ]
  },
  {
   "cell_type": "code",
   "execution_count": null,
   "metadata": {
    "colab": {
     "base_uri": "https://localhost:8080/"
    },
    "executionInfo": {
     "elapsed": 6,
     "status": "ok",
     "timestamp": 1654098036542,
     "user": {
      "displayName": "Filip Gawroński",
      "userId": "00648330829298803344"
     },
     "user_tz": -120
    },
    "id": "tXZPe8N8oDST",
    "outputId": "9ab56b6d-a1ca-40d7-e9c3-05425f79d599"
   },
   "outputs": [],
   "source": [
    "data[selected].info()"
   ]
  },
  {
   "cell_type": "markdown",
   "metadata": {
    "id": "psS0W8WcoHFr"
   },
   "source": [
    "Standardisation"
   ]
  },
  {
   "cell_type": "code",
   "execution_count": null,
   "metadata": {
    "colab": {
     "base_uri": "https://localhost:8080/"
    },
    "executionInfo": {
     "elapsed": 4,
     "status": "ok",
     "timestamp": 1654098036542,
     "user": {
      "displayName": "Filip Gawroński",
      "userId": "00648330829298803344"
     },
     "user_tz": -120
    },
    "id": "T25DNGXGoK32",
    "outputId": "5ecb2848-7a78-43a8-8d5d-3c4de381caeb"
   },
   "outputs": [],
   "source": [
    "from sklearn.preprocessing import StandardScaler\n",
    "sc = StandardScaler()\n",
    "scaledFeatures = sc.fit_transform(data[selected])\n",
    "scaledFeatures"
   ]
  },
  {
   "cell_type": "markdown",
   "metadata": {
    "id": "yYPjbIQjoUro"
   },
   "source": [
    "#XGB"
   ]
  },
  {
   "cell_type": "code",
   "execution_count": null,
   "metadata": {
    "executionInfo": {
     "elapsed": 3,
     "status": "ok",
     "timestamp": 1654098036542,
     "user": {
      "displayName": "Filip Gawroński",
      "userId": "00648330829298803344"
     },
     "user_tz": -120
    },
    "id": "JFgwSXqAoXbh"
   },
   "outputs": [],
   "source": [
    "# Load packages and create test set\n",
    "import xgboost as xgb\n",
    "from xgboost import plot_importance\n",
    "from matplotlib import pyplot as plt\n",
    "from sklearn.model_selection import train_test_split\n",
    "from sklearn.model_selection import GridSearchCV\n",
    "from sklearn.metrics import r2_score, mean_squared_error\n",
    "\n",
    "X = scaledFeatures\n",
    "y = data[\"price\"]\n",
    "X_train, X_test, y_train, y_test = train_test_split(X, y, test_size=0.2, random_state=42)"
   ]
  },
  {
   "cell_type": "code",
   "execution_count": null,
   "metadata": {
    "colab": {
     "base_uri": "https://localhost:8080/"
    },
    "executionInfo": {
     "elapsed": 26641,
     "status": "ok",
     "timestamp": 1654098063180,
     "user": {
      "displayName": "Filip Gawroński",
      "userId": "00648330829298803344"
     },
     "user_tz": -120
    },
    "id": "fwTii9akoeux",
    "outputId": "ff9ac3e0-f40d-42c4-fff5-93331c3b080c"
   },
   "outputs": [],
   "source": [
    "#Initialize XGBoost classifier and find the best parameter sets with Grid Search CV\n",
    "xgb_clf = xgb.XGBRegressor()\n",
    "parameters = {'n_estimators': [80, 100, 120, 140], 'max_depth':[3,5,7,9]}\n",
    "grid_search = GridSearchCV(estimator=xgb_clf, param_grid=parameters, cv=5, n_jobs=-1)\n",
    "grid_search.fit(X_train, y_train)\n",
    "print(grid_search.best_params_)"
   ]
  },
  {
   "cell_type": "code",
   "execution_count": null,
   "metadata": {
    "colab": {
     "base_uri": "https://localhost:8080/"
    },
    "executionInfo": {
     "elapsed": 18,
     "status": "ok",
     "timestamp": 1654098063181,
     "user": {
      "displayName": "Filip Gawroński",
      "userId": "00648330829298803344"
     },
     "user_tz": -120
    },
    "id": "v1HbNSpForaN",
    "outputId": "d21f35d2-8bb1-4477-8891-0d203858f784"
   },
   "outputs": [],
   "source": [
    "# Xgb with best parameters\n",
    "xgb_clf = xgb.XGBRegressor(n_estimators=100, max_depth=3)\n",
    "xgb_clf.fit(X_train, y_train)\n",
    "y_test_pred = xgb_clf.predict(X_test)\n",
    "print(\"R^2 score is: {0: .4f}\".format(r2_score(y_test, y_test_pred)))\n",
    "print(\"RMSE is: {0: .4f}\".format(np.sqrt(mean_squared_error(y_test, y_test_pred))))"
   ]
  },
  {
   "cell_type": "markdown",
   "metadata": {
    "id": "J1ghi_hXo2r0"
   },
   "source": [
    "We can compare now resuts to predictions"
   ]
  },
  {
   "cell_type": "code",
   "execution_count": null,
   "metadata": {
    "executionInfo": {
     "elapsed": 14,
     "status": "ok",
     "timestamp": 1654098063181,
     "user": {
      "displayName": "Filip Gawroński",
      "userId": "00648330829298803344"
     },
     "user_tz": -120
    },
    "id": "iZZ-Vkgyo2K1"
   },
   "outputs": [],
   "source": [
    "results_compared= {'Real values': y_test,\n",
    "                   'Predicted_Values': y_test_pred}\n",
    "results_compared = pd.DataFrame(results_compared)\n",
    "#results_compared"
   ]
  },
  {
   "cell_type": "markdown",
   "metadata": {
    "id": "hFSO04WopPUx"
   },
   "source": [
    "We can use Lasso, to choose best parameters due to Lasso algotythm"
   ]
  },
  {
   "cell_type": "markdown",
   "metadata": {
    "id": "l2gdQvNQpY59"
   },
   "source": [
    "#Lasso"
   ]
  },
  {
   "cell_type": "markdown",
   "metadata": {
    "id": "nQUbS2yxpfhF"
   },
   "source": [
    "Creating table to be used"
   ]
  },
  {
   "cell_type": "code",
   "execution_count": null,
   "metadata": {
    "colab": {
     "base_uri": "https://localhost:8080/",
     "height": 206
    },
    "executionInfo": {
     "elapsed": 8,
     "status": "ok",
     "timestamp": 1654098063569,
     "user": {
      "displayName": "Filip Gawroński",
      "userId": "00648330829298803344"
     },
     "user_tz": -120
    },
    "id": "-hSLLyASpbmb",
    "outputId": "baa56fa5-c577-4ffe-9498-378bd7bb3967"
   },
   "outputs": [],
   "source": [
    "data_subset = data.loc[:, selected + ['price']]\n",
    "data_subset.dropna(inplace=True)\n",
    "data_subset.head()"
   ]
  },
  {
   "cell_type": "markdown",
   "metadata": {
    "id": "gRAQkoJRpmCK"
   },
   "source": [
    "Further preparation of data - Standardization"
   ]
  },
  {
   "cell_type": "code",
   "execution_count": null,
   "metadata": {
    "executionInfo": {
     "elapsed": 6,
     "status": "ok",
     "timestamp": 1654098063569,
     "user": {
      "displayName": "Filip Gawroński",
      "userId": "00648330829298803344"
     },
     "user_tz": -120
    },
    "id": "D_m27KDxpoEL"
   },
   "outputs": [],
   "source": [
    "X = data_subset.loc[:,selected]\n",
    "X = preprocessing.scale(X)\n",
    "y = np.array(data_subset.price)\n",
    "\n",
    "alphas_lasso, coefs_lasso, _ = lasso_path(X, y, eps = 5e-5)"
   ]
  },
  {
   "cell_type": "code",
   "execution_count": null,
   "metadata": {
    "colab": {
     "base_uri": "https://localhost:8080/",
     "height": 594
    },
    "executionInfo": {
     "elapsed": 1038,
     "status": "ok",
     "timestamp": 1654098064601,
     "user": {
      "displayName": "Filip Gawroński",
      "userId": "00648330829298803344"
     },
     "user_tz": -120
    },
    "id": "HSdEP9HTprC_",
    "outputId": "effaeecc-6f6b-4105-d17a-4059421f618c"
   },
   "outputs": [],
   "source": [
    "# Display results\n",
    "plt.figure(figsize = (12,8))\n",
    "\n",
    "for i in range(X.shape[1]):\n",
    "    plt.plot(alphas_lasso, coefs_lasso[i], label = selected[i])\n",
    "\n",
    "plt.xscale('log')\n",
    "plt.xlabel('Log($\\\\lambda$)')\n",
    "plt.ylabel('coefficients')\n",
    "plt.title('Lasso paths - Sklearn')\n",
    "plt.legend()\n",
    "plt.axis('tight')"
   ]
  },
  {
   "cell_type": "markdown",
   "metadata": {
    "id": "DTLi_EjhqBXB"
   },
   "source": [
    "We can remove then: instant_bookable, review_scores_checkin, review_scores_location"
   ]
  },
  {
   "cell_type": "code",
   "execution_count": null,
   "metadata": {
    "colab": {
     "base_uri": "https://localhost:8080/"
    },
    "executionInfo": {
     "elapsed": 10,
     "status": "ok",
     "timestamp": 1654098064602,
     "user": {
      "displayName": "Filip Gawroński",
      "userId": "00648330829298803344"
     },
     "user_tz": -120
    },
    "id": "YV7I0wkorh61",
    "outputId": "fd06dbad-b14c-4ee6-a908-6b3d6d567b66"
   },
   "outputs": [],
   "source": [
    "selected2 = selected.copy()\n",
    "selected2"
   ]
  },
  {
   "cell_type": "code",
   "execution_count": null,
   "metadata": {
    "colab": {
     "base_uri": "https://localhost:8080/"
    },
    "executionInfo": {
     "elapsed": 7,
     "status": "ok",
     "timestamp": 1654098064602,
     "user": {
      "displayName": "Filip Gawroński",
      "userId": "00648330829298803344"
     },
     "user_tz": -120
    },
    "id": "dMso1fZSqZl-",
    "outputId": "fa6b3e0a-0778-4739-ca24-aa501f563e6e"
   },
   "outputs": [],
   "source": [
    "selected2.remove('with_Coffee_maker')\n",
    "selected2.remove('review_scores_checkin')\n",
    "selected2.remove('review_scores_location')\n",
    "selected2.remove('instant_bookable')\n",
    "selected2.remove('with_Dedicated_workspace')\n",
    "selected2"
   ]
  },
  {
   "cell_type": "markdown",
   "metadata": {
    "id": "W2L9lJsfqvuc"
   },
   "source": [
    "try Lasso again"
   ]
  },
  {
   "cell_type": "code",
   "execution_count": null,
   "metadata": {
    "executionInfo": {
     "elapsed": 8,
     "status": "ok",
     "timestamp": 1654098064605,
     "user": {
      "displayName": "Filip Gawroński",
      "userId": "00648330829298803344"
     },
     "user_tz": -120
    },
    "id": "aBCqJsrRqxqa"
   },
   "outputs": [],
   "source": [
    "X = data_subset.loc[:,selected2]\n",
    "X = preprocessing.scale(X)\n",
    "y = np.array(data_subset.price)\n",
    "\n",
    "alphas_lasso, coefs_lasso, _ = lasso_path(X, y, eps = 5e-5)"
   ]
  },
  {
   "cell_type": "code",
   "execution_count": null,
   "metadata": {
    "colab": {
     "base_uri": "https://localhost:8080/",
     "height": 594
    },
    "executionInfo": {
     "elapsed": 563,
     "status": "ok",
     "timestamp": 1654098065160,
     "user": {
      "displayName": "Filip Gawroński",
      "userId": "00648330829298803344"
     },
     "user_tz": -120
    },
    "id": "BckSRqfdq0L3",
    "outputId": "f8cc0783-849a-4715-b0aa-2d1d6bb6204c"
   },
   "outputs": [],
   "source": [
    "# Display results\n",
    "plt.figure(figsize = (12,8))\n",
    "\n",
    "for i in range(X.shape[1]):\n",
    "    plt.plot(alphas_lasso, coefs_lasso[i], label = selected2[i])\n",
    "\n",
    "plt.xscale('log')\n",
    "plt.xlabel('Log($\\\\lambda$)')\n",
    "plt.ylabel('coefficients')\n",
    "plt.title('Lasso paths - Sklearn')\n",
    "plt.legend()\n",
    "plt.axis('tight')"
   ]
  },
  {
   "cell_type": "markdown",
   "metadata": {
    "id": "Mhi2ye75ssk8"
   },
   "source": [
    "Now its much better. At the end lets remove accomodates value, sice it is srtrongly connected with bedrooms"
   ]
  },
  {
   "cell_type": "code",
   "execution_count": null,
   "metadata": {
    "colab": {
     "base_uri": "https://localhost:8080/"
    },
    "executionInfo": {
     "elapsed": 8,
     "status": "ok",
     "timestamp": 1654098065161,
     "user": {
      "displayName": "Filip Gawroński",
      "userId": "00648330829298803344"
     },
     "user_tz": -120
    },
    "id": "0SJQcAQgs5y0",
    "outputId": "3e334f8c-5ad5-4b28-e625-dcbc65c7d607"
   },
   "outputs": [],
   "source": [
    "selected2_no_accomodates = selected2.copy()\n",
    "selected2_no_accomodates.remove('accommodates')\n",
    "selected2_no_accomodates"
   ]
  },
  {
   "cell_type": "code",
   "execution_count": null,
   "metadata": {
    "id": "dh_G6tgW__dd"
   },
   "outputs": [],
   "source": [
    "# It will work better in the future, when it is rearanged:\n",
    "selected2_no_accomodates = ['bedrooms', 'good_distance', 'is_entire_apt', 'with_Hair_dryer', 'with_Shampoo', 'review_scores_cleanliness']"
   ]
  },
  {
   "cell_type": "markdown",
   "metadata": {
    "id": "K_t1ITgxtak4"
   },
   "source": [
    "#XGB Repeated"
   ]
  },
  {
   "cell_type": "code",
   "execution_count": null,
   "metadata": {
    "colab": {
     "base_uri": "https://localhost:8080/"
    },
    "executionInfo": {
     "elapsed": 6,
     "status": "ok",
     "timestamp": 1654098065517,
     "user": {
      "displayName": "Filip Gawroński",
      "userId": "00648330829298803344"
     },
     "user_tz": -120
    },
    "id": "Bbj2x7v1tMbV",
    "outputId": "59860dd6-a555-4f1c-b6de-46bf3b4c38b7"
   },
   "outputs": [],
   "source": [
    "from sklearn.preprocessing import StandardScaler\n",
    "sc2 = StandardScaler()\n",
    "scaledFeatures2 = sc2.fit_transform(data[selected2])\n",
    "scaledFeatures2"
   ]
  },
  {
   "cell_type": "code",
   "execution_count": null,
   "metadata": {
    "executionInfo": {
     "elapsed": 5,
     "status": "ok",
     "timestamp": 1654098065518,
     "user": {
      "displayName": "Filip Gawroński",
      "userId": "00648330829298803344"
     },
     "user_tz": -120
    },
    "id": "Plc21gIEtquo"
   },
   "outputs": [],
   "source": [
    "# Load packages and create test set\n",
    "import xgboost as xgb\n",
    "from xgboost import plot_importance\n",
    "from matplotlib import pyplot as plt\n",
    "from sklearn.model_selection import train_test_split\n",
    "from sklearn.model_selection import GridSearchCV\n",
    "from sklearn.metrics import r2_score, mean_squared_error\n",
    "\n",
    "X2 = scaledFeatures2\n",
    "y = data[\"price\"]\n",
    "X_train2, X_test2, y_train2, y_test2 = train_test_split(X2, y, test_size=0.2, random_state=42)"
   ]
  },
  {
   "cell_type": "code",
   "execution_count": null,
   "metadata": {
    "colab": {
     "base_uri": "https://localhost:8080/"
    },
    "executionInfo": {
     "elapsed": 15541,
     "status": "ok",
     "timestamp": 1654098081055,
     "user": {
      "displayName": "Filip Gawroński",
      "userId": "00648330829298803344"
     },
     "user_tz": -120
    },
    "id": "TLnRwhGntua8",
    "outputId": "af45a8a8-4270-47a5-dc47-cd188e5baca2"
   },
   "outputs": [],
   "source": [
    "#Initialize XGBoost classifier and find the best parameter sets with Grid Search CV\n",
    "xgb_clf2 = xgb.XGBRegressor()\n",
    "parameters = {'n_estimators': [80, 100, 120, 140], 'max_depth':[3,5,7,9]}\n",
    "grid_search = GridSearchCV(estimator=xgb_clf, param_grid=parameters, cv=5, n_jobs=-1)\n",
    "grid_search.fit(X_train, y_train)\n",
    "print(grid_search.best_params_)"
   ]
  },
  {
   "cell_type": "code",
   "execution_count": null,
   "metadata": {
    "colab": {
     "base_uri": "https://localhost:8080/"
    },
    "executionInfo": {
     "elapsed": 14,
     "status": "ok",
     "timestamp": 1654098081056,
     "user": {
      "displayName": "Filip Gawroński",
      "userId": "00648330829298803344"
     },
     "user_tz": -120
    },
    "id": "qzwrQQAFt1K3",
    "outputId": "12e7334b-bb26-4d0a-fe6a-6d9cdd35fc6d"
   },
   "outputs": [],
   "source": [
    "# Xgb with best parameters\n",
    "xgb_clf2 = xgb.XGBRegressor(n_estimators=80, max_depth=3)\n",
    "xgb_clf2.fit(X_train2, y_train2)\n",
    "y_test_pred2 = xgb_clf2.predict(X_test2)\n",
    "print(\"R^2 score is: {0: .4f}\".format(r2_score(y_test2, y_test_pred2)))\n",
    "print(\"RMSE is: {0: .4f}\".format(np.sqrt(mean_squared_error(y_test2, y_test_pred2))))"
   ]
  },
  {
   "cell_type": "markdown",
   "metadata": {
    "id": "GQeHDDXJuCj1"
   },
   "source": [
    "Last try - without accomodates"
   ]
  },
  {
   "cell_type": "code",
   "execution_count": null,
   "metadata": {
    "colab": {
     "base_uri": "https://localhost:8080/"
    },
    "executionInfo": {
     "elapsed": 220,
     "status": "ok",
     "timestamp": 1654098946436,
     "user": {
      "displayName": "Filip Gawroński",
      "userId": "00648330829298803344"
     },
     "user_tz": -120
    },
    "id": "7izRqo4SuK7R",
    "outputId": "34d090da-fd37-440e-a4f2-7fd6151c6fc4"
   },
   "outputs": [],
   "source": [
    "from sklearn.preprocessing import StandardScaler\n",
    "sc2_no_accomodates = StandardScaler()\n",
    "scaledFeatures2_no_accomodates = sc.fit_transform(data[selected2_no_accomodates])\n",
    "scaledFeatures2_no_accomodates"
   ]
  },
  {
   "cell_type": "code",
   "execution_count": null,
   "metadata": {
    "executionInfo": {
     "elapsed": 2,
     "status": "ok",
     "timestamp": 1654098948540,
     "user": {
      "displayName": "Filip Gawroński",
      "userId": "00648330829298803344"
     },
     "user_tz": -120
    },
    "id": "hu5pfvnTuNAT"
   },
   "outputs": [],
   "source": [
    "# Load packages and create test set\n",
    "import xgboost as xgb\n",
    "from xgboost import plot_importance\n",
    "from matplotlib import pyplot as plt\n",
    "from sklearn.model_selection import train_test_split\n",
    "from sklearn.model_selection import GridSearchCV\n",
    "from sklearn.metrics import r2_score, mean_squared_error\n",
    "\n",
    "X2_no_accomodates = scaledFeatures2_no_accomodates\n",
    "y = data[\"price\"]\n",
    "X_train2_no_accomodates, X_test2_no_accomodates, y_train2_no_accomodates, y_test2_no_accomodates = train_test_split(X2_no_accomodates, y, test_size=0.2, random_state=42)"
   ]
  },
  {
   "cell_type": "code",
   "execution_count": null,
   "metadata": {
    "colab": {
     "base_uri": "https://localhost:8080/"
    },
    "executionInfo": {
     "elapsed": 12105,
     "status": "ok",
     "timestamp": 1654098962232,
     "user": {
      "displayName": "Filip Gawroński",
      "userId": "00648330829298803344"
     },
     "user_tz": -120
    },
    "id": "KzJFGNF8uOwZ",
    "outputId": "e08ef394-cdaa-43a6-c16e-831358d5ff52"
   },
   "outputs": [],
   "source": [
    "#Initialize XGBoost classifier and find the best parameter sets with Grid Search CV\n",
    "xgb_clf2_no_accomodates = xgb.XGBRegressor()\n",
    "parameters = {'n_estimators': [80, 100, 120, 140], 'max_depth':[3,5,7,9]}\n",
    "grid_search = GridSearchCV(estimator=xgb_clf, param_grid=parameters, cv=5, n_jobs=-1)\n",
    "grid_search.fit(X_train2_no_accomodates, y_train2_no_accomodates)\n",
    "print(grid_search.best_params_)"
   ]
  },
  {
   "cell_type": "code",
   "execution_count": null,
   "metadata": {
    "colab": {
     "base_uri": "https://localhost:8080/"
    },
    "executionInfo": {
     "elapsed": 2,
     "status": "ok",
     "timestamp": 1654098963353,
     "user": {
      "displayName": "Filip Gawroński",
      "userId": "00648330829298803344"
     },
     "user_tz": -120
    },
    "id": "FQRgeAUDuS80",
    "outputId": "6ed8ec0d-3551-41a4-92a2-1216b966ff5a"
   },
   "outputs": [],
   "source": [
    "# Xgb with best parameters\n",
    "xgb_clf2_no_accomodates = xgb.XGBRegressor(n_estimators=80, max_depth=3)\n",
    "xgb_clf2_no_accomodates.fit(X_train2_no_accomodates, y_train2_no_accomodates)\n",
    "y_test_pred2_no_accomodates = xgb_clf2_no_accomodates.predict(X_test2_no_accomodates)\n",
    "print(\"R^2 score is: {0: .4f}\".format(r2_score(y_test2_no_accomodates, y_test_pred2_no_accomodates)))\n",
    "print(\"RMSE is: {0: .4f}\".format(np.sqrt(mean_squared_error(y_test2_no_accomodates, y_test_pred2_no_accomodates))))"
   ]
  },
  {
   "cell_type": "markdown",
   "metadata": {
    "id": "-9jxeiuAupnU"
   },
   "source": [
    "We will use this set of data for further predictions"
   ]
  },
  {
   "cell_type": "markdown",
   "metadata": {
    "id": "8XxgKzf-vnib"
   },
   "source": [
    "#Shapley"
   ]
  },
  {
   "cell_type": "code",
   "execution_count": null,
   "metadata": {
    "colab": {
     "base_uri": "https://localhost:8080/"
    },
    "executionInfo": {
     "elapsed": 880,
     "status": "ok",
     "timestamp": 1654098092257,
     "user": {
      "displayName": "Filip Gawroński",
      "userId": "00648330829298803344"
     },
     "user_tz": -120
    },
    "id": "8GL9PQf0wCos",
    "outputId": "6e60e441-ee15-4e0b-f408-3299bcffd02b"
   },
   "outputs": [],
   "source": [
    "explainer = shap.TreeExplainer(xgb_clf)\n",
    "X = data[selected]\n",
    "shap_values = explainer.shap_values(X)\n",
    "X.iloc[0,:]"
   ]
  },
  {
   "cell_type": "code",
   "execution_count": null,
   "metadata": {
    "colab": {
     "base_uri": "https://localhost:8080/",
     "height": 194
    },
    "executionInfo": {
     "elapsed": 9,
     "status": "ok",
     "timestamp": 1654098092258,
     "user": {
      "displayName": "Filip Gawroński",
      "userId": "00648330829298803344"
     },
     "user_tz": -120
    },
    "id": "ZltCUNplwCvv",
    "outputId": "6db4f262-9c04-48dc-9ebf-5943d547016f"
   },
   "outputs": [],
   "source": [
    "shap.initjs()\n",
    "shap.force_plot(explainer.expected_value, shap_values[0,:], X.iloc[0,:])"
   ]
  },
  {
   "cell_type": "code",
   "execution_count": null,
   "metadata": {
    "colab": {
     "base_uri": "https://localhost:8080/"
    },
    "executionInfo": {
     "elapsed": 937,
     "status": "ok",
     "timestamp": 1654098093191,
     "user": {
      "displayName": "Filip Gawroński",
      "userId": "00648330829298803344"
     },
     "user_tz": -120
    },
    "id": "KBty7IupwC34",
    "outputId": "20c049bc-63e4-4a6e-9d94-99826f4c7c33"
   },
   "outputs": [],
   "source": [
    "explainer2 = shap.TreeExplainer(xgb_clf2)\n",
    "X2 = data[selected2]\n",
    "shap_values2 = explainer2.shap_values(X2)\n",
    "X2.iloc[0,:]"
   ]
  },
  {
   "cell_type": "code",
   "execution_count": null,
   "metadata": {
    "colab": {
     "base_uri": "https://localhost:8080/",
     "height": 194
    },
    "executionInfo": {
     "elapsed": 27,
     "status": "ok",
     "timestamp": 1654098093192,
     "user": {
      "displayName": "Filip Gawroński",
      "userId": "00648330829298803344"
     },
     "user_tz": -120
    },
    "id": "uQcrkR_7wC9u",
    "outputId": "e29ffffb-64ee-4726-9936-a238e6801ab4"
   },
   "outputs": [],
   "source": [
    "shap.initjs()\n",
    "shap.force_plot(explainer2.expected_value, shap_values2[0,:], X2.iloc[0,:])"
   ]
  },
  {
   "cell_type": "code",
   "execution_count": null,
   "metadata": {
    "colab": {
     "base_uri": "https://localhost:8080/"
    },
    "executionInfo": {
     "elapsed": 22,
     "status": "ok",
     "timestamp": 1654098093192,
     "user": {
      "displayName": "Filip Gawroński",
      "userId": "00648330829298803344"
     },
     "user_tz": -120
    },
    "id": "ehQdfit-vwPh",
    "outputId": "ca340be8-7efe-4300-fc0c-0688579ec305"
   },
   "outputs": [],
   "source": [
    "explainer2_no_accomodates = shap.TreeExplainer(xgb_clf2_no_accomodates)\n",
    "X2_no_accomodates = data[selected2_no_accomodates]\n",
    "shap_values2_no_accomodates = explainer2_no_accomodates.shap_values(X2_no_accomodates)\n",
    "X2_no_accomodates.iloc[0,:]"
   ]
  },
  {
   "cell_type": "code",
   "execution_count": null,
   "metadata": {
    "colab": {
     "base_uri": "https://localhost:8080/",
     "height": 194
    },
    "executionInfo": {
     "elapsed": 20,
     "status": "ok",
     "timestamp": 1654098093193,
     "user": {
      "displayName": "Filip Gawroński",
      "userId": "00648330829298803344"
     },
     "user_tz": -120
    },
    "id": "47PFEP6Vv56H",
    "outputId": "d6da3a05-7c17-46d5-a794-361f204bd759"
   },
   "outputs": [],
   "source": [
    "shap.initjs()\n",
    "shap.force_plot(explainer2_no_accomodates.expected_value, shap_values2_no_accomodates[0,:], X2_no_accomodates.iloc[0,:])"
   ]
  },
  {
   "cell_type": "markdown",
   "metadata": {
    "id": "N65vlUhnyl3d"
   },
   "source": [
    "#Linear Regression"
   ]
  },
  {
   "cell_type": "code",
   "execution_count": null,
   "metadata": {
    "colab": {
     "base_uri": "https://localhost:8080/"
    },
    "executionInfo": {
     "elapsed": 16,
     "status": "ok",
     "timestamp": 1654098093193,
     "user": {
      "displayName": "Filip Gawroński",
      "userId": "00648330829298803344"
     },
     "user_tz": -120
    },
    "id": "S2XjvwLX2jUF",
    "outputId": "e8cd7b8d-81eb-42e4-c993-e30cb7627267"
   },
   "outputs": [],
   "source": [
    "selected"
   ]
  },
  {
   "cell_type": "code",
   "execution_count": null,
   "metadata": {
    "colab": {
     "base_uri": "https://localhost:8080/"
    },
    "executionInfo": {
     "elapsed": 15,
     "status": "ok",
     "timestamp": 1654098093194,
     "user": {
      "displayName": "Filip Gawroński",
      "userId": "00648330829298803344"
     },
     "user_tz": -120
    },
    "id": "4KYjGzsd2ja-",
    "outputId": "0b250489-f7ec-49bb-8606-f391f9e9e02e"
   },
   "outputs": [],
   "source": [
    "selected2"
   ]
  },
  {
   "cell_type": "code",
   "execution_count": null,
   "metadata": {
    "colab": {
     "base_uri": "https://localhost:8080/"
    },
    "executionInfo": {
     "elapsed": 15,
     "status": "ok",
     "timestamp": 1654098093195,
     "user": {
      "displayName": "Filip Gawroński",
      "userId": "00648330829298803344"
     },
     "user_tz": -120
    },
    "id": "0WYtcL562jih",
    "outputId": "97e3d815-4792-4e98-81c0-4e364b70c8df"
   },
   "outputs": [],
   "source": [
    "selected2_no_accomodates"
   ]
  },
  {
   "cell_type": "code",
   "execution_count": null,
   "metadata": {
    "colab": {
     "base_uri": "https://localhost:8080/"
    },
    "executionInfo": {
     "elapsed": 15,
     "status": "ok",
     "timestamp": 1654098093195,
     "user": {
      "displayName": "Filip Gawroński",
      "userId": "00648330829298803344"
     },
     "user_tz": -120
    },
    "id": "d6LYqY-MypOQ",
    "outputId": "bbe92555-dc0e-4fcf-baf2-3e2cf4575db5"
   },
   "outputs": [],
   "source": [
    "import statsmodels.formula.api as smf\n",
    "\n",
    "model = smf.ols('price ~ good_distance + is_entire_apt + with_Hair_dryer + with_Dedicated_workspace + with_Washer + with_Shampoo + with_Coffee_maker + review_scores_cleanliness + review_scores_checkin + review_scores_location + accommodates + bedrooms + instant_bookable', data=data).fit()\n",
    "\n",
    "print(model.summary())"
   ]
  },
  {
   "cell_type": "code",
   "execution_count": null,
   "metadata": {
    "colab": {
     "base_uri": "https://localhost:8080/"
    },
    "executionInfo": {
     "elapsed": 15,
     "status": "ok",
     "timestamp": 1654098093196,
     "user": {
      "displayName": "Filip Gawroński",
      "userId": "00648330829298803344"
     },
     "user_tz": -120
    },
    "id": "IkUG4i9F3OsF",
    "outputId": "3c2d33ad-0f03-4e71-c210-21d346d4d298"
   },
   "outputs": [],
   "source": [
    "model2 = smf.ols('price ~ good_distance + is_entire_apt + with_Hair_dryer + with_Washer + with_Shampoo + review_scores_cleanliness + accommodates + bedrooms', data=data).fit()\n",
    "\n",
    "print(model2.summary())"
   ]
  },
  {
   "cell_type": "code",
   "execution_count": null,
   "metadata": {
    "colab": {
     "base_uri": "https://localhost:8080/"
    },
    "executionInfo": {
     "elapsed": 15,
     "status": "ok",
     "timestamp": 1654098093196,
     "user": {
      "displayName": "Filip Gawroński",
      "userId": "00648330829298803344"
     },
     "user_tz": -120
    },
    "id": "2FjKsLb03ROj",
    "outputId": "21bb2742-b269-44a2-cec0-a34da7e06605"
   },
   "outputs": [],
   "source": [
    "model2_no_accomodates = smf.ols('price ~ good_distance + is_entire_apt + with_Hair_dryer + with_Washer + with_Shampoo + review_scores_cleanliness + bedrooms', data=data).fit()\n",
    "\n",
    "print(model2_no_accomodates.summary())"
   ]
  },
  {
   "cell_type": "markdown",
   "metadata": {
    "id": "pCQAn1pU38RY"
   },
   "source": [
    "W can see, that we can remoove Washer, due to low p"
   ]
  },
  {
   "cell_type": "code",
   "execution_count": null,
   "metadata": {
    "colab": {
     "base_uri": "https://localhost:8080/"
    },
    "executionInfo": {
     "elapsed": 241,
     "status": "ok",
     "timestamp": 1654098578391,
     "user": {
      "displayName": "Filip Gawroński",
      "userId": "00648330829298803344"
     },
     "user_tz": -120
    },
    "id": "sxwKT1UY4UBs",
    "outputId": "2db87aa5-fc16-4adc-f620-53dd65a17428"
   },
   "outputs": [],
   "source": [
    "model_final = smf.ols('price ~ bedrooms + good_distance + is_entire_apt + with_Hair_dryer + with_Shampoo + review_scores_cleanliness', data=data).fit()\n",
    "\n",
    "print(model_final.summary())"
   ]
  },
  {
   "cell_type": "markdown",
   "metadata": {
    "id": "OD4JAz1940Pu"
   },
   "source": [
    "#Ceteris paribus"
   ]
  },
  {
   "cell_type": "markdown",
   "metadata": {
    "id": "MlmHhOoX49BK"
   },
   "source": [
    "Lets calculate number of bedrooms"
   ]
  },
  {
   "cell_type": "code",
   "execution_count": null,
   "metadata": {
    "colab": {
     "base_uri": "https://localhost:8080/",
     "height": 206
    },
    "executionInfo": {
     "elapsed": 242,
     "status": "ok",
     "timestamp": 1654098971154,
     "user": {
      "displayName": "Filip Gawroński",
      "userId": "00648330829298803344"
     },
     "user_tz": -120
    },
    "id": "WAue0XNF5A1G",
    "outputId": "d039f3f9-ed63-487b-fdf5-3efe5fd77b03"
   },
   "outputs": [],
   "source": [
    "['good_distance', 'is_entire_apt', 'with_Hair_dryer', 'with_Shampoo', 'review_scores_cleanliness']\n",
    "data_temp = pd.DataFrame({\"bedrooms\" : [x for x in range(30)]})\n",
    "data_temp['good_distance'] = 1\n",
    "data_temp['is_entire_apt'] = 1\n",
    "data_temp['with_Hair_dryer'] = 1\n",
    "data_temp['with_Shampoo'] = 1\n",
    "data_temp['review_scores_cleanliness'] = 4.8\n",
    "data_temp\n",
    "\n",
    "data_temp.head()"
   ]
  },
  {
   "cell_type": "code",
   "execution_count": null,
   "metadata": {
    "colab": {
     "base_uri": "https://localhost:8080/"
    },
    "executionInfo": {
     "elapsed": 239,
     "status": "ok",
     "timestamp": 1654098972879,
     "user": {
      "displayName": "Filip Gawroński",
      "userId": "00648330829298803344"
     },
     "user_tz": -120
    },
    "id": "RJLmlkPk5rzf",
    "outputId": "cd07d28a-9bf9-488e-9765-cb35fd71216a"
   },
   "outputs": [],
   "source": [
    "#To jest potrzebne, bo ten xgb zmienia nazwy atrybutów na f0, f1... Tutaj się do tego odwołujemy i zmieniamy mu nazwy spowrotem na prawidłowe\n",
    "xgb_clf2_no_accomodates.get_booster().feature_names = ['bedrooms', 'good_distance', 'is_entire_apt', 'with_Hair_dryer', 'with_Shampoo', 'review_scores_cleanliness']\n",
    "xgb_clf2_no_accomodates.get_booster().feature_names"
   ]
  },
  {
   "cell_type": "code",
   "execution_count": null,
   "metadata": {
    "colab": {
     "base_uri": "https://localhost:8080/"
    },
    "executionInfo": {
     "elapsed": 257,
     "status": "ok",
     "timestamp": 1654098893351,
     "user": {
      "displayName": "Filip Gawroński",
      "userId": "00648330829298803344"
     },
     "user_tz": -120
    },
    "id": "DWh-nPs5-QrG",
    "outputId": "871f427c-b2e4-402a-b5e4-c8f39159ded9"
   },
   "outputs": [],
   "source": [
    "xgb_clf2_no_accomodates.get_booster().feature_names"
   ]
  },
  {
   "cell_type": "code",
   "execution_count": null,
   "metadata": {
    "colab": {
     "base_uri": "https://localhost:8080/",
     "height": 347
    },
    "executionInfo": {
     "elapsed": 263,
     "status": "ok",
     "timestamp": 1654098978997,
     "user": {
      "displayName": "Filip Gawroński",
      "userId": "00648330829298803344"
     },
     "user_tz": -120
    },
    "id": "1admMCXz5chs",
    "outputId": "89dfc6f0-7a7b-4cd1-a018-1fd0fbc257cf"
   },
   "outputs": [],
   "source": [
    "data_subset = data.loc[:, selected2_no_accomodates + ['price']]\n",
    "data_subset.dropna(inplace=True)\n",
    "data_subset = data_subset.iloc[:1000,:]\n",
    "data_temp = data_temp.reindex(columns=data_subset.columns)\n",
    "data_temp.drop('price', axis=1, inplace=True)\n",
    "\n",
    "#Predict\n",
    "predictions_temp = xgb_clf2_no_accomodates.predict(data_temp)\n",
    "\n",
    "#Plot\n",
    "plt.scatter(x=data_temp.bedrooms, y=predictions_temp)\n",
    "plt.show()"
   ]
  },
  {
   "cell_type": "markdown",
   "metadata": {
    "id": "xfXERgLWANQu"
   },
   "source": [
    "Here we can see, that really big raise is with 3 bedrooms, but it may be hard to buy - 2 bedrooms are also good"
   ]
  }
 ],
 "metadata": {
  "colab": {
   "authorship_tag": "ABX9TyO0r+Lyumiw1VMd6mJsmkKD",
   "collapsed_sections": [],
   "name": "Geneva.ipynb",
   "provenance": []
  },
  "kernelspec": {
   "display_name": "Python 3 (ipykernel)",
   "language": "python",
   "name": "python3"
  },
  "language_info": {
   "codemirror_mode": {
    "name": "ipython",
    "version": 3
   },
   "file_extension": ".py",
   "mimetype": "text/x-python",
   "name": "python",
   "nbconvert_exporter": "python",
   "pygments_lexer": "ipython3",
   "version": "3.7.0"
  }
 },
 "nbformat": 4,
 "nbformat_minor": 4
}
